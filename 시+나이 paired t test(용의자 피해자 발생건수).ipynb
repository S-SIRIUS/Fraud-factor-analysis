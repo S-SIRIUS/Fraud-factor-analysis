{
 "cells": [
  {
   "cell_type": "code",
   "execution_count": 1,
   "id": "0dd7349d",
   "metadata": {},
   "outputs": [],
   "source": [
    "import pandas as pd\n",
    "import pandas as pd\n",
    "import numpy as np\n",
    "import os\n",
    "import glob\n",
    "folders_1 = os.listdir('data/금융사기용의자의 연령대별 지역데이터')\n",
    "folders_2 = os.listdir('data/금융사기피해자의 연령대별 지역데이터')\n",
    "\n",
    "def make_csv(folders,folderpath):\n",
    "    with open(folderpath[:-1]+'.csv', 'w',encoding='UTF-8') as outfile:\n",
    "        for filename in folders:\n",
    "            with open(folderpath+filename, encoding='UTF-8') as file:        \n",
    "                outfile.write(file.read())\n",
    "\n",
    "\n",
    "make_csv(folders_1,\"data/금융사기용의자의 연령대별 지역데이터/\")\n",
    "df_suspect_origin = pd.read_csv('./data/금융사기용의자의 연령대별 지역데이터.csv',names=['고유번호', '생년구간', '광역시도명', '법정시군구명', '등록일시'],index_col=0)\n",
    "make_csv(folders_2,'data/금융사기피해자의 연령대별 지역데이터/')\n",
    "df_victim_origin = pd.read_csv('./data/금융사기피해자의 연령대별 지역데이터.csv',names=['고유번호', '생년구간', '광역시도명', '법정시군구명', '등록일시'],index_col=0)"
   ]
  },
  {
   "cell_type": "code",
   "execution_count": 2,
   "id": "33968aed",
   "metadata": {},
   "outputs": [],
   "source": [
    "df_suspect_origin = pd.read_csv('./data/금융사기용의자의 연령대별 지역데이터.csv',names=['고유번호', '생년구간', '광역시도명', '법정시군구명', '등록일시'],index_col=0)\n",
    "df_victim_origin = pd.read_csv('./data/금융사기피해자의 연령대별 지역데이터.csv',names=['고유번호', '생년구간', '광역시도명', '법정시군구명', '등록일시'],index_col=0)\n",
    "## 지역별 시구군\n",
    "seoul = '종로구 중구 용산구 성동구 광진구 동대문구 중랑구 성북구 강북구 도봉구 노원구 은평구 서대문구 마포구 양천구 강서구 구로구 금천구 영등포구 동작구 관악구 서초구 강남구 송파구 강동구'.split(' ')\n",
    "busan = '중구 서구 동구 영도구 부산진구 동래구 남구 북구 강서구 해운대구 사하구 금정구 연제구 수영구 사상구 기장군'.split(' ')\n",
    "daegu = '중구 동구 서구 남구 북구 수성구 달서구 달성군'.split(' ')\n",
    "incheon = '중구 동구 미추홀구 연수구 남동구 부평구 계양구 서구 강화군 옹진군'.split(' ')\n",
    "gwangju = '동구 서구 남구 북구 광산구'.split(' ')\n",
    "daejun = '동구 중구 서구 유성구 대덕구'.split(' ')\n",
    "ulsan = '중구 남구 동구 북구 울주군'.split(' ')\n",
    "gg = '남양주시 수원시 성남시 의정부시 안양시 부천시 광명시 동두천시 평택시 안산시 고양시 과천시 구리시 오산시 시흥시 군포시 의왕시 하남시 용인시 파주시 이천시 안성시 김포시 화성시 광주시 양주시 포천시 여주시 연천군 가평군 양평군'.split(' ')\n",
    "gangwon = '춘천시 원주시 강릉시 동해시 태백시 속초시 삼척시 홍천군 횡성군 영월군 평창군 정선군 철원군 화천군 양구군 인제군 고성군 양양군'.split(' ')\n",
    "chungbuk='청주시 충주시 제천시 보은군 옥천군 영동군 증평군 진천군 괴산군 음성군 단양군'.split(' ')\n",
    "chungnam='천안시 공주시 보령시 아산시 서산시 논산시 계룡시 당진시 금산군 부여군 서천군 청양군 홍성군 예산군 태안군'.split(' ')\n",
    "jeonbuk='전주시 군산시 익산시 정읍시 남원시 김제시 완주군 진안군 무주군 장수군 임실군 순창군 고창군 부안군'.split(' ')\n",
    "jeonnam='목포시 여수시 순천시 나주시 광양시 담양군 곡성군 구례군 고흥군 보성군 화순군 장흥군 강진군 해남군 영암군 무안군 함평군 영광군 장성군 완도군 진도군 신안군'.split(' ')\n",
    "geonbuk='포항시 경주시 김천시 안동시 구미시 영주시 영천시 상주시 문경시 경산시 군위군 의성군 청송군 영양군 영덕군 청도군 고령군 성주군 칠곡군 예천군 봉화군 울진군 울릉군'.split(' ')\n",
    "geonnam ='창원시 진주시 통영시 사천시 김해시 밀양시 거제시 양산시 의령군 함안군 창녕군 고성군 남해군 하동군 산청군 함양군 거창군 합천군'.split(' ')\n",
    "jeju='제주시 서귀포시'.split(' ')\n",
    "sejong = '세종시'.split(' ')\n",
    "all_region = seoul+ busan +daegu +incheon+gwangju+daejun+ulsan+gg+gangwon+chungbuk+chungnam+jeonbuk+jeonnam+geonbuk+geonnam+jeju+sejong\n",
    "part = gg+gangwon+chungbuk+chungnam+jeonbuk+jeonnam+geonbuk+geonnam+jeju\n",
    "def delete_detail_region(region):\n",
    "    region = str(region)\n",
    "    if len(region) > 4:\n",
    "        region=region[0:3]\n",
    "        for i in all_region:\n",
    "            if i in region:\n",
    "                return i\n",
    "            else:\n",
    "                return region\n",
    "    else:\n",
    "        return region\n",
    "\n",
    "df_suspect_origin['법정시군구명']=df_suspect_origin['법정시군구명'].apply(lambda x: delete_detail_region(x))\n",
    "df_victim_origin['법정시군구명']=df_victim_origin['법정시군구명'].apply(lambda x: delete_detail_region(x))\n",
    "\n",
    "a = list(df_victim_origin['생년구간'].unique()) #2090-2100 2070-2080 => 각각 1개 5개 제외\n",
    "a.remove ('2090-2100')\n",
    "a.remove('2070-2080')\n",
    "a= sorted(a)\n",
    "\n",
    "\n",
    "b = list(df_suspect_origin['생년구간'].unique()) # 2080-2090 => 1개 제외\n",
    "b.remove('2080-2090')\n",
    "b = sorted(b)\n",
    "\n",
    "region_s = [seoul,busan,daegu,incheon,gwangju,daejun,ulsan,gg ,gangwon ,chungbuk,chungnam,jeonbuk,jeonnam,geonbuk,geonnam ,jeju, sejong]\n",
    "region_b = ['서울특별시','부산광역시','대구광역시','인천광역시','광주광역시','대전광역시','울산광역시','경기도','강원도','충청북도','충청남도','전라북도','전라남도','경상북도','경상남도','제주특별자치도','세종특별자치시']\n",
    "region = []\n",
    "DF = []\n",
    "for b in range(17):\n",
    "    for s in region_s[b]:\n",
    "        DF.append ([region_b[b],s])\n",
    "        for old in a: # a로 들어가야 전부 들어감\n",
    "            region.append([region_b[b],s,old])\n",
    "\n",
    "#DF = pd.DataFrame(columns=['광역시도명','법정시군구명'], data=DF)\n",
    "#suspect_DF = DF\n",
    "#victim_DF = DF\n",
    "\n",
    "DF = pd.DataFrame(columns=['광역시도명','법정시군구명'], data=DF)                   \n",
    "\n",
    "suspect_Old_DF = pd.DataFrame(columns=['광역시도명','법정시군구명','생년구간'], data=region)\n",
    "victim_Old_DF = pd.DataFrame(columns=['광역시도명','법정시군구명','생년구간'], data=region)\n",
    "suspect_Old_DF.to_csv(\"suspect_Old_DF.csv\", mode='w')\n",
    "victim_Old_DF.to_csv(\"victim_Old_DF.csv\", mode='w')\n",
    "\n",
    "\n",
    "def return_cnt(df,row):\n",
    "    temp = df[(df['광역시도명']==row['광역시도명'])&(df['법정시군구명']==row['법정시군구명'])&(df['생년구간']==row['생년구간'])]\n",
    "    return temp['광역시도명'].count()\n",
    "\n",
    "suspect_Old_DF['발생건수'] = suspect_Old_DF.apply(lambda x: return_cnt(df_suspect_origin,x),axis=1)\n",
    "victim_Old_DF['발생건수'] = victim_Old_DF.apply(lambda x: return_cnt(df_victim_origin,x),axis=1)\n",
    "suspect_Old_DF.to_csv(\"suspect_Old_DF.csv\", mode='w')\n",
    "victim_Old_DF.to_csv(\"victim_Old_DF.csv\", mode='w')"
   ]
  },
  {
   "cell_type": "code",
   "execution_count": 3,
   "id": "877698af",
   "metadata": {},
   "outputs": [],
   "source": [
    "suspect_Old_DF=suspect_Old_DF[suspect_Old_DF['법정시군구명']!='세종시']\n",
    "victim_Old_DF=victim_Old_DF[victim_Old_DF['법정시군구명']!='세종시']"
   ]
  },
  {
   "cell_type": "code",
   "execution_count": 4,
   "id": "02d563ea",
   "metadata": {},
   "outputs": [
    {
     "data": {
      "text/html": [
       "<div>\n",
       "<style scoped>\n",
       "    .dataframe tbody tr th:only-of-type {\n",
       "        vertical-align: middle;\n",
       "    }\n",
       "\n",
       "    .dataframe tbody tr th {\n",
       "        vertical-align: top;\n",
       "    }\n",
       "\n",
       "    .dataframe thead th {\n",
       "        text-align: right;\n",
       "    }\n",
       "</style>\n",
       "<table border=\"1\" class=\"dataframe\">\n",
       "  <thead>\n",
       "    <tr style=\"text-align: right;\">\n",
       "      <th></th>\n",
       "      <th>광역시도명</th>\n",
       "      <th>법정시군구명</th>\n",
       "      <th>생년구간</th>\n",
       "      <th>발생건수</th>\n",
       "    </tr>\n",
       "  </thead>\n",
       "  <tbody>\n",
       "    <tr>\n",
       "      <th>0</th>\n",
       "      <td>서울특별시</td>\n",
       "      <td>종로구</td>\n",
       "      <td>1900-1910</td>\n",
       "      <td>0</td>\n",
       "    </tr>\n",
       "    <tr>\n",
       "      <th>1</th>\n",
       "      <td>서울특별시</td>\n",
       "      <td>종로구</td>\n",
       "      <td>1910-1920</td>\n",
       "      <td>0</td>\n",
       "    </tr>\n",
       "    <tr>\n",
       "      <th>2</th>\n",
       "      <td>서울특별시</td>\n",
       "      <td>종로구</td>\n",
       "      <td>1920-1930</td>\n",
       "      <td>0</td>\n",
       "    </tr>\n",
       "    <tr>\n",
       "      <th>3</th>\n",
       "      <td>서울특별시</td>\n",
       "      <td>종로구</td>\n",
       "      <td>1930-1940</td>\n",
       "      <td>0</td>\n",
       "    </tr>\n",
       "    <tr>\n",
       "      <th>4</th>\n",
       "      <td>서울특별시</td>\n",
       "      <td>종로구</td>\n",
       "      <td>1940-1950</td>\n",
       "      <td>1</td>\n",
       "    </tr>\n",
       "    <tr>\n",
       "      <th>...</th>\n",
       "      <td>...</td>\n",
       "      <td>...</td>\n",
       "      <td>...</td>\n",
       "      <td>...</td>\n",
       "    </tr>\n",
       "    <tr>\n",
       "      <th>2731</th>\n",
       "      <td>제주특별자치도</td>\n",
       "      <td>서귀포시</td>\n",
       "      <td>1970-1980</td>\n",
       "      <td>6</td>\n",
       "    </tr>\n",
       "    <tr>\n",
       "      <th>2732</th>\n",
       "      <td>제주특별자치도</td>\n",
       "      <td>서귀포시</td>\n",
       "      <td>1980-1990</td>\n",
       "      <td>7</td>\n",
       "    </tr>\n",
       "    <tr>\n",
       "      <th>2733</th>\n",
       "      <td>제주특별자치도</td>\n",
       "      <td>서귀포시</td>\n",
       "      <td>1990-2000</td>\n",
       "      <td>26</td>\n",
       "    </tr>\n",
       "    <tr>\n",
       "      <th>2734</th>\n",
       "      <td>제주특별자치도</td>\n",
       "      <td>서귀포시</td>\n",
       "      <td>2000-2010</td>\n",
       "      <td>29</td>\n",
       "    </tr>\n",
       "    <tr>\n",
       "      <th>2735</th>\n",
       "      <td>제주특별자치도</td>\n",
       "      <td>서귀포시</td>\n",
       "      <td>2010-2020</td>\n",
       "      <td>12</td>\n",
       "    </tr>\n",
       "  </tbody>\n",
       "</table>\n",
       "<p>2736 rows × 4 columns</p>\n",
       "</div>"
      ],
      "text/plain": [
       "        광역시도명 법정시군구명       생년구간  발생건수\n",
       "0       서울특별시    종로구  1900-1910     0\n",
       "1       서울특별시    종로구  1910-1920     0\n",
       "2       서울특별시    종로구  1920-1930     0\n",
       "3       서울특별시    종로구  1930-1940     0\n",
       "4       서울특별시    종로구  1940-1950     1\n",
       "...       ...    ...        ...   ...\n",
       "2731  제주특별자치도   서귀포시  1970-1980     6\n",
       "2732  제주특별자치도   서귀포시  1980-1990     7\n",
       "2733  제주특별자치도   서귀포시  1990-2000    26\n",
       "2734  제주특별자치도   서귀포시  2000-2010    29\n",
       "2735  제주특별자치도   서귀포시  2010-2020    12\n",
       "\n",
       "[2736 rows x 4 columns]"
      ]
     },
     "execution_count": 4,
     "metadata": {},
     "output_type": "execute_result"
    }
   ],
   "source": [
    "suspect_Old_DF"
   ]
  },
  {
   "cell_type": "code",
   "execution_count": 5,
   "id": "b8625bde",
   "metadata": {},
   "outputs": [
    {
     "data": {
      "text/html": [
       "<div>\n",
       "<style scoped>\n",
       "    .dataframe tbody tr th:only-of-type {\n",
       "        vertical-align: middle;\n",
       "    }\n",
       "\n",
       "    .dataframe tbody tr th {\n",
       "        vertical-align: top;\n",
       "    }\n",
       "\n",
       "    .dataframe thead th {\n",
       "        text-align: right;\n",
       "    }\n",
       "</style>\n",
       "<table border=\"1\" class=\"dataframe\">\n",
       "  <thead>\n",
       "    <tr style=\"text-align: right;\">\n",
       "      <th></th>\n",
       "      <th>광역시도명</th>\n",
       "      <th>법정시군구명</th>\n",
       "      <th>생년구간</th>\n",
       "      <th>발생건수</th>\n",
       "    </tr>\n",
       "  </thead>\n",
       "  <tbody>\n",
       "    <tr>\n",
       "      <th>0</th>\n",
       "      <td>서울특별시</td>\n",
       "      <td>종로구</td>\n",
       "      <td>1900-1910</td>\n",
       "      <td>0</td>\n",
       "    </tr>\n",
       "    <tr>\n",
       "      <th>1</th>\n",
       "      <td>서울특별시</td>\n",
       "      <td>종로구</td>\n",
       "      <td>1910-1920</td>\n",
       "      <td>0</td>\n",
       "    </tr>\n",
       "    <tr>\n",
       "      <th>2</th>\n",
       "      <td>서울특별시</td>\n",
       "      <td>종로구</td>\n",
       "      <td>1920-1930</td>\n",
       "      <td>0</td>\n",
       "    </tr>\n",
       "    <tr>\n",
       "      <th>3</th>\n",
       "      <td>서울특별시</td>\n",
       "      <td>종로구</td>\n",
       "      <td>1930-1940</td>\n",
       "      <td>0</td>\n",
       "    </tr>\n",
       "    <tr>\n",
       "      <th>4</th>\n",
       "      <td>서울특별시</td>\n",
       "      <td>종로구</td>\n",
       "      <td>1940-1950</td>\n",
       "      <td>1</td>\n",
       "    </tr>\n",
       "    <tr>\n",
       "      <th>...</th>\n",
       "      <td>...</td>\n",
       "      <td>...</td>\n",
       "      <td>...</td>\n",
       "      <td>...</td>\n",
       "    </tr>\n",
       "    <tr>\n",
       "      <th>2731</th>\n",
       "      <td>제주특별자치도</td>\n",
       "      <td>서귀포시</td>\n",
       "      <td>1970-1980</td>\n",
       "      <td>40</td>\n",
       "    </tr>\n",
       "    <tr>\n",
       "      <th>2732</th>\n",
       "      <td>제주특별자치도</td>\n",
       "      <td>서귀포시</td>\n",
       "      <td>1980-1990</td>\n",
       "      <td>103</td>\n",
       "    </tr>\n",
       "    <tr>\n",
       "      <th>2733</th>\n",
       "      <td>제주특별자치도</td>\n",
       "      <td>서귀포시</td>\n",
       "      <td>1990-2000</td>\n",
       "      <td>157</td>\n",
       "    </tr>\n",
       "    <tr>\n",
       "      <th>2734</th>\n",
       "      <td>제주특별자치도</td>\n",
       "      <td>서귀포시</td>\n",
       "      <td>2000-2010</td>\n",
       "      <td>205</td>\n",
       "    </tr>\n",
       "    <tr>\n",
       "      <th>2735</th>\n",
       "      <td>제주특별자치도</td>\n",
       "      <td>서귀포시</td>\n",
       "      <td>2010-2020</td>\n",
       "      <td>102</td>\n",
       "    </tr>\n",
       "  </tbody>\n",
       "</table>\n",
       "<p>2736 rows × 4 columns</p>\n",
       "</div>"
      ],
      "text/plain": [
       "        광역시도명 법정시군구명       생년구간  발생건수\n",
       "0       서울특별시    종로구  1900-1910     0\n",
       "1       서울특별시    종로구  1910-1920     0\n",
       "2       서울특별시    종로구  1920-1930     0\n",
       "3       서울특별시    종로구  1930-1940     0\n",
       "4       서울특별시    종로구  1940-1950     1\n",
       "...       ...    ...        ...   ...\n",
       "2731  제주특별자치도   서귀포시  1970-1980    40\n",
       "2732  제주특별자치도   서귀포시  1980-1990   103\n",
       "2733  제주특별자치도   서귀포시  1990-2000   157\n",
       "2734  제주특별자치도   서귀포시  2000-2010   205\n",
       "2735  제주특별자치도   서귀포시  2010-2020   102\n",
       "\n",
       "[2736 rows x 4 columns]"
      ]
     },
     "execution_count": 5,
     "metadata": {},
     "output_type": "execute_result"
    }
   ],
   "source": [
    "victim_Old_DF"
   ]
  },
  {
   "cell_type": "code",
   "execution_count": 6,
   "id": "b877aec9",
   "metadata": {},
   "outputs": [],
   "source": [
    "from scipy import stats"
   ]
  },
  {
   "cell_type": "code",
   "execution_count": 14,
   "id": "1e8b1a71",
   "metadata": {},
   "outputs": [
    {
     "data": {
      "text/plain": [
       "12.552631578947368"
      ]
     },
     "execution_count": 14,
     "metadata": {},
     "output_type": "execute_result"
    }
   ],
   "source": [
    "suspect_Old_DF['발생건수'].mean()"
   ]
  },
  {
   "cell_type": "code",
   "execution_count": 15,
   "id": "2b7a4cdd",
   "metadata": {},
   "outputs": [
    {
     "data": {
      "text/plain": [
       "93.56396198830409"
      ]
     },
     "execution_count": 15,
     "metadata": {},
     "output_type": "execute_result"
    }
   ],
   "source": [
    "victim_Old_DF['발생건수'].mean()"
   ]
  },
  {
   "cell_type": "markdown",
   "id": "f13fb797",
   "metadata": {},
   "source": [
    "# 용의자 수와 피해자 수의 상관관계\n",
    "## 용의자가 증가하면 피해자도 증가함(당연한 원리)"
   ]
  },
  {
   "cell_type": "code",
   "execution_count": 41,
   "id": "72fbc342",
   "metadata": {},
   "outputs": [],
   "source": [
    "import matplotlib.pyplot as plt\n",
    "import seaborn as sns\n",
    "from scipy import stats"
   ]
  },
  {
   "cell_type": "code",
   "execution_count": 42,
   "id": "1f30ef74",
   "metadata": {},
   "outputs": [
    {
     "data": {
      "image/png": "[encoded data removed]",
      "text/plain": [
       "<Figure size 720x720 with 1 Axes>"
      ]
     },
     "metadata": {
      "needs_background": "light"
     },
     "output_type": "display_data"
    }
   ],
   "source": [
    "fig=plt.figure(figsize=(10,10))\n",
    "sns.regplot(x=suspect_Old_DF['발생건수'], y=victim_Old_DF['발생건수'], fit_reg=True, color='g')\n",
    "plt.xlabel('Suspect')\n",
    "plt.ylabel('Victim')\n",
    "plt.title('corr of suspect & victim occurrences')\n",
    "plt.show()"
   ]
  },
  {
   "cell_type": "code",
   "execution_count": 44,
   "id": "3a15344a",
   "metadata": {},
   "outputs": [
    {
     "name": "stdout",
     "output_type": "stream",
     "text": [
      "(0.9611937883483485, 0.0)\n"
     ]
    }
   ],
   "source": [
    "print(stats.pearsonr(suspect_Old_DF['발생건수'], victim_Old_DF['발생건수']))"
   ]
  },
  {
   "cell_type": "code",
   "execution_count": null,
   "id": "2ccc46c0",
   "metadata": {},
   "outputs": [],
   "source": []
  },
  {
   "cell_type": "markdown",
   "id": "fcd1fdaf",
   "metadata": {},
   "source": [
    "# 용의자 수와 피해자 수는 독립이 아님 -> 상관관계가 있다. -> paired t test\n",
    "## 결과 같은지역의 같은 나이대의 용의자와 같은지역의 같은 나이대의 피해자는 대부분 큰 차이가 난다.\n",
    "## ex>\n",
    "## 서울지역 10대 용의자 발생건수3, 서울지역 10대 피해자 발생건수 37\n",
    "## 부산지역 20대 용의자 발생건수20, 부산지역 20대 피해자 발생건구 3\n"
   ]
  },
  {
   "cell_type": "code",
   "execution_count": null,
   "id": "e4468425",
   "metadata": {},
   "outputs": [],
   "source": []
  },
  {
   "cell_type": "markdown",
   "id": "b35759ef",
   "metadata": {},
   "source": [
    "# 1. 용의자 , 피해자 발생건수 paired t test"
   ]
  },
  {
   "cell_type": "markdown",
   "id": "77da5f9d",
   "metadata": {},
   "source": [
    "# 두집단간 평균의 차이 검증\n",
    "## 귀무가설: 용의자와 피해자 수 차이의 평균은 유의하지 않다\n",
    "## 결론 pvalue 가 0.00~ 이므로 귀무가설 기각 후 대립가설채택 용의자와 피해자 발생건수  차이의 평균은 유의하다."
   ]
  },
  {
   "cell_type": "code",
   "execution_count": 23,
   "id": "b51d7329",
   "metadata": {},
   "outputs": [],
   "source": [
    "stat, p_val = stats.ttest_rel(suspect_Old_DF['발생건수'], victim_Old_DF['발생건수'])"
   ]
  },
  {
   "cell_type": "code",
   "execution_count": 24,
   "id": "705d5758",
   "metadata": {},
   "outputs": [
    {
     "name": "stdout",
     "output_type": "stream",
     "text": [
      "statistic: -14.815370754485038    p-value: 7.929501025352936e-48\n"
     ]
    }
   ],
   "source": [
    "print('statistic:', stat, '   p-value:', p_val)"
   ]
  },
  {
   "cell_type": "markdown",
   "id": "ae96dbf5",
   "metadata": {},
   "source": [
    "# 2. 지역별 용의자, 피해자 paired t test\n",
    "## 결론: 제주, 전북, 전북, 대전이 용의자와 피해자 발생건수 차이의 평균이 적은편이다.\n",
    "## 그러나 그래도 차이가 크며 모든 지역별 용의자와 피해자 발생건수의 차이가 크다."
   ]
  },
  {
   "cell_type": "markdown",
   "id": "f15cbf98",
   "metadata": {},
   "source": [
    "## 1. 서울지역의 연령대별 용의자 발생건수 & 서울지역의 연령대별 피해자 발생건수\n",
    "## 귀무가설: 용의자와 피해자 수 차이의 평균은 유의하지 않다\n",
    "## 결론 pvalue 가 0.00~ 이므로 귀무가설 기각 후 대립가설채택 용의자와 피해자 발생건수 차이의 평균은 유의하다."
   ]
  },
  {
   "cell_type": "code",
   "execution_count": 25,
   "id": "2bffd242",
   "metadata": {},
   "outputs": [],
   "source": [
    "s_seoul=suspect_Old_DF[suspect_Old_DF['광역시도명']=='서울특별시']\n",
    "v_seoul=victim_Old_DF[victim_Old_DF['광역시도명']=='서울특별시']"
   ]
  },
  {
   "cell_type": "code",
   "execution_count": 27,
   "id": "7882e541",
   "metadata": {},
   "outputs": [],
   "source": [
    "stat, p_val = stats.ttest_rel(s_seoul['발생건수'], v_seoul['발생건수'])"
   ]
  },
  {
   "cell_type": "code",
   "execution_count": 28,
   "id": "d30b7b93",
   "metadata": {},
   "outputs": [
    {
     "name": "stdout",
     "output_type": "stream",
     "text": [
      "statistic: -6.2691276051415015    p-value: 1.2666108018700027e-09\n"
     ]
    }
   ],
   "source": [
    "print('statistic:', stat, '   p-value:', p_val)"
   ]
  },
  {
   "cell_type": "markdown",
   "id": "34538b91",
   "metadata": {},
   "source": [
    "## 2. 부산지역의 연령대별 용의자 발생건수 & 부산지역의 연령대별 피해자 발생건수\n",
    "## 귀무가설: 용의자와 피해자 수 차이의 평균은 유의하지 않다\n",
    "## 결론 pvalue 가 0.00~ 이므로 귀무가설 기각 후 대립가설채택 용의자와 피해자 발생건수 차이의 평균은 유의하다."
   ]
  },
  {
   "cell_type": "code",
   "execution_count": 29,
   "id": "68f8bad9",
   "metadata": {},
   "outputs": [],
   "source": [
    "s_busan=suspect_Old_DF[suspect_Old_DF['광역시도명']=='부산광역시']\n",
    "v_busan=victim_Old_DF[victim_Old_DF['광역시도명']=='부산광역시']"
   ]
  },
  {
   "cell_type": "code",
   "execution_count": 30,
   "id": "5e8f1a5d",
   "metadata": {},
   "outputs": [],
   "source": [
    "stat, p_val = stats.ttest_rel(s_busan['발생건수'], v_busan['발생건수'])"
   ]
  },
  {
   "cell_type": "code",
   "execution_count": 31,
   "id": "ac5ef9a6",
   "metadata": {},
   "outputs": [
    {
     "name": "stdout",
     "output_type": "stream",
     "text": [
      "statistic: -7.698571295569615    p-value: 7.205287717743478e-13\n"
     ]
    }
   ],
   "source": [
    "print('statistic:', stat, '   p-value:', p_val)"
   ]
  },
  {
   "cell_type": "markdown",
   "id": "23795a62",
   "metadata": {},
   "source": [
    "## 3. 대구지역의 연령대별 용의자 발생건수 & 대구지역의 연령대별 피해자 발생건수\n",
    "## 귀무가설: 용의자와 피해자 수 차이의 평균은 유의하지 않다\n",
    "## 결론 pvalue 가 0.00~ 이므로 귀무가설 기각 후 대립가설채택 용의자와 피해자 발생건수 차이의 평균은 유의하다."
   ]
  },
  {
   "cell_type": "code",
   "execution_count": 35,
   "id": "f8c5991e",
   "metadata": {},
   "outputs": [
    {
     "name": "stdout",
     "output_type": "stream",
     "text": [
      "statistic: -5.433447385133574    p-value: 4.2531985638271236e-07\n"
     ]
    }
   ],
   "source": [
    "s_daegu=suspect_Old_DF[suspect_Old_DF['광역시도명']=='대구광역시']\n",
    "v_daegu=victim_Old_DF[victim_Old_DF['광역시도명']=='대구광역시']\n",
    "stat, p_val = stats.ttest_rel(s_daegu['발생건수'], v_daegu['발생건수'])\n",
    "print('statistic:', stat, '   p-value:', p_val)"
   ]
  },
  {
   "cell_type": "markdown",
   "id": "23b8f2ea",
   "metadata": {},
   "source": [
    "## 4. 인천지역의 연령대별 용의자 발생건수 & 인천지역의 연령대별 피해자 발생건수\n",
    "## 귀무가설: 용의자와 피해자 수 차이의 평균은 유의하지 않다\n",
    "## 결론 pvalue 가 0.00~ 이므로 귀무가설 기각 후 대립가설채택 용의자와 피해자 발생건수 차이의 평균은 유의하다."
   ]
  },
  {
   "cell_type": "code",
   "execution_count": 36,
   "id": "3e37dc85",
   "metadata": {},
   "outputs": [
    {
     "name": "stdout",
     "output_type": "stream",
     "text": [
      "statistic: -5.758542446203536    p-value: 6.761844728204058e-08\n"
     ]
    }
   ],
   "source": [
    "s_incheon=suspect_Old_DF[suspect_Old_DF['광역시도명']=='인천광역시']\n",
    "v_incheon=victim_Old_DF[victim_Old_DF['광역시도명']=='인천광역시']\n",
    "stat, p_val = stats.ttest_rel(s_incheon['발생건수'], v_incheon['발생건수'])\n",
    "print('statistic:', stat, '   p-value:', p_val)"
   ]
  },
  {
   "cell_type": "markdown",
   "id": "1969b245",
   "metadata": {},
   "source": [
    "## 5. 광주지역의 연령대별 용의자 발생건수 & 광주지역의 연령대별 피해자 발생건수\n",
    "## 귀무가설: 용의자와 피해자 수 차이의 평균은 유의하지 않다\n",
    "## 결론 pvalue 가 0.00~ 이므로 귀무가설 기각 후 대립가설채택 용의자와 피해자 발생건수 차이의 평균은 유의하다."
   ]
  },
  {
   "cell_type": "code",
   "execution_count": 37,
   "id": "bb1bd49b",
   "metadata": {},
   "outputs": [
    {
     "name": "stdout",
     "output_type": "stream",
     "text": [
      "statistic: -4.20730364113355    p-value: 8.91883417639372e-05\n"
     ]
    }
   ],
   "source": [
    "s_gwangju=suspect_Old_DF[suspect_Old_DF['광역시도명']=='광주광역시']\n",
    "v_gwangju=victim_Old_DF[victim_Old_DF['광역시도명']=='광주광역시']\n",
    "stat, p_val = stats.ttest_rel(s_gwangju['발생건수'], v_gwangju['발생건수'])\n",
    "print('statistic:', stat, '   p-value:', p_val)"
   ]
  },
  {
   "cell_type": "markdown",
   "id": "6e70a505",
   "metadata": {},
   "source": [
    "## 6. 대전지역의 연령대별 용의자 발생건수 & 대전지역의 연령대별 피해자 발생건수\n",
    "## 귀무가설: 용의자와 피해자 수 차이의 평균은 유의하지 않다\n",
    "## 결론 pvalue 가 0.0001~ 이므로 귀무가설 기각 후 대립가설채택 용의자와 피해자 발생건수 차이의 평균은 유의하다."
   ]
  },
  {
   "cell_type": "code",
   "execution_count": 45,
   "id": "f21d4148",
   "metadata": {},
   "outputs": [
    {
     "name": "stdout",
     "output_type": "stream",
     "text": [
      "statistic: -4.172806104229146    p-value: 0.00010025965490735056\n"
     ]
    }
   ],
   "source": [
    "s_daejeon=suspect_Old_DF[suspect_Old_DF['광역시도명']=='대전광역시']\n",
    "v_daejeon=victim_Old_DF[victim_Old_DF['광역시도명']=='대전광역시']\n",
    "stat, p_val = stats.ttest_rel(s_daejeon['발생건수'], v_daejeon['발생건수'])\n",
    "print('statistic:', stat, '   p-value:', p_val)"
   ]
  },
  {
   "cell_type": "markdown",
   "id": "bf76d490",
   "metadata": {},
   "source": [
    "## 7. 울산지역의 연령대별 용의자 발생건수 & 울산지역의 연령대별 피해자 발생건수\n",
    "## 귀무가설: 용의자와 피해자 수 차이의 평균은 유의하지 않다\n",
    "## 결론 pvalue 가 0.00~ 이므로 귀무가설 기각 후 대립가설채택 용의자와 피해자 발생건수 차이의 평균은 유의하다."
   ]
  },
  {
   "cell_type": "code",
   "execution_count": 46,
   "id": "c782475c",
   "metadata": {},
   "outputs": [
    {
     "name": "stdout",
     "output_type": "stream",
     "text": [
      "statistic: -4.916642240447365    p-value: 7.372982639520534e-06\n"
     ]
    }
   ],
   "source": [
    "s_ulsan=suspect_Old_DF[suspect_Old_DF['광역시도명']=='울산광역시']\n",
    "v_ulsan=victim_Old_DF[victim_Old_DF['광역시도명']=='울산광역시']\n",
    "stat, p_val = stats.ttest_rel(s_ulsan['발생건수'], v_ulsan['발생건수'])\n",
    "print('statistic:', stat, '   p-value:', p_val)"
   ]
  },
  {
   "cell_type": "markdown",
   "id": "9d978466",
   "metadata": {},
   "source": [
    "## 8. 경기도의 연령대별 용의자 발생건수 & 경기도의 연령대별 피해자 발생건수\n",
    "## 귀무가설: 용의자와 피해자 수 차이의 평균은 유의하지 않다\n",
    "## 결론 pvalue 가 0.00~ 이므로 귀무가설 기각 후 대립가설채택 용의자와 피해자 발생건수 차이의 평균은 유의하다."
   ]
  },
  {
   "cell_type": "code",
   "execution_count": 47,
   "id": "19945acc",
   "metadata": {},
   "outputs": [
    {
     "name": "stdout",
     "output_type": "stream",
     "text": [
      "statistic: -8.983975362807874    p-value: 1.342106446290648e-17\n"
     ]
    }
   ],
   "source": [
    "s_gyeonggi =suspect_Old_DF[suspect_Old_DF['광역시도명']=='경기도']\n",
    "v_gyeonggi=victim_Old_DF[victim_Old_DF['광역시도명']=='경기도']\n",
    "stat, p_val = stats.ttest_rel(s_gyeonggi['발생건수'], v_gyeonggi['발생건수'])\n",
    "print('statistic:', stat, '   p-value:', p_val)"
   ]
  },
  {
   "cell_type": "markdown",
   "id": "21922e1c",
   "metadata": {},
   "source": [
    "## 9. 강원도의 연령대별 용의자 발생건수 & 강원도의 연령대별 피해자 발생건수\n",
    "## 귀무가설: 용의자와 피해자 수 차이의 평균은 유의하지 않다\n",
    "## 결론 pvalue 가 0.00~ 이므로 귀무가설 기각 후 대립가설채택 용의자와 피해자 발생건수 차이의 평균은 유의하다."
   ]
  },
  {
   "cell_type": "code",
   "execution_count": 48,
   "id": "fd57120c",
   "metadata": {},
   "outputs": [
    {
     "name": "stdout",
     "output_type": "stream",
     "text": [
      "statistic: -5.681700317063347    p-value: 4.304120412404422e-08\n"
     ]
    }
   ],
   "source": [
    "s_gangwon =suspect_Old_DF[suspect_Old_DF['광역시도명']=='강원도']\n",
    "v_gangwon=victim_Old_DF[victim_Old_DF['광역시도명']=='강원도']\n",
    "stat, p_val = stats.ttest_rel(s_gangwon['발생건수'], v_gangwon['발생건수'])\n",
    "print('statistic:', stat, '   p-value:', p_val)"
   ]
  },
  {
   "cell_type": "markdown",
   "id": "2352631a",
   "metadata": {},
   "source": [
    "## 10. 충청북도의 연령대별 용의자 발생건수 & 충청북도의 연령대별 피해자 발생건수\n",
    "## 귀무가설: 용의자와 피해자 수 차이의 평균은 유의하지 않다\n",
    "## 결론 pvalue 가 0.00~ 이므로 귀무가설 기각 후 대립가설채택 용의자와 피해자 발생건수 차이의 평균은 유의하다."
   ]
  },
  {
   "cell_type": "code",
   "execution_count": 49,
   "id": "901a61c9",
   "metadata": {},
   "outputs": [
    {
     "name": "stdout",
     "output_type": "stream",
     "text": [
      "statistic: -3.0352899382935714    p-value: 0.0028993887594367584\n"
     ]
    }
   ],
   "source": [
    "s_chungbuk =suspect_Old_DF[suspect_Old_DF['광역시도명']=='충청북도']\n",
    "v_chungbuk=victim_Old_DF[victim_Old_DF['광역시도명']=='충청북도']\n",
    "stat, p_val = stats.ttest_rel(s_chungbuk['발생건수'], v_chungbuk['발생건수'])\n",
    "print('statistic:', stat, '   p-value:', p_val)"
   ]
  },
  {
   "cell_type": "markdown",
   "id": "1dc63345",
   "metadata": {},
   "source": [
    "## 11. 충청남도의 연령대별 용의자 발생건수 & 충청남도의 연령대별 피해자 발생건수\n",
    "## 귀무가설: 용의자와 피해자 수 차이의 평균은 유의하지 않다\n",
    "## 결론 pvalue 가 0.00~ 이므로 귀무가설 기각 후 대립가설채택 용의자와 피해자 발생건수 차이의 평균은 유의하다."
   ]
  },
  {
   "cell_type": "code",
   "execution_count": 50,
   "id": "ee91ca91",
   "metadata": {},
   "outputs": [
    {
     "name": "stdout",
     "output_type": "stream",
     "text": [
      "statistic: -4.577164188393519    p-value: 8.791019271919133e-06\n"
     ]
    }
   ],
   "source": [
    "s_chungnam =suspect_Old_DF[suspect_Old_DF['광역시도명']=='충청남도']\n",
    "v_chungnam=victim_Old_DF[victim_Old_DF['광역시도명']=='충청남도']\n",
    "stat, p_val = stats.ttest_rel(s_chungnam['발생건수'], v_chungnam['발생건수'])\n",
    "print('statistic:', stat, '   p-value:', p_val)"
   ]
  },
  {
   "cell_type": "markdown",
   "id": "f5b21d52",
   "metadata": {},
   "source": [
    "## 12. 전라북도의 연령대별 용의자 발생건수 & 전라북도의 연령대별 피해자 발생건수\n",
    "## 귀무가설: 용의자와 피해자 수 차이의 평균은 유의하지 않다\n",
    "## 결론 pvalue 가 0.00~ 이므로 귀무가설 기각 후 대립가설채택 용의자와 피해자 발생건수 차이의 평균은 유의하다."
   ]
  },
  {
   "cell_type": "code",
   "execution_count": 51,
   "id": "9d6f7995",
   "metadata": {},
   "outputs": [
    {
     "name": "stdout",
     "output_type": "stream",
     "text": [
      "statistic: -3.8165156426869298    p-value: 0.00019037320516811202\n"
     ]
    }
   ],
   "source": [
    "s_jeollabuk =suspect_Old_DF[suspect_Old_DF['광역시도명']=='전라북도']\n",
    "v_jeollabuk=victim_Old_DF[victim_Old_DF['광역시도명']=='전라북도']\n",
    "stat, p_val = stats.ttest_rel(s_jeollabuk['발생건수'], v_jeollabuk['발생건수'])\n",
    "print('statistic:', stat, '   p-value:', p_val)"
   ]
  },
  {
   "cell_type": "markdown",
   "id": "14448fb4",
   "metadata": {},
   "source": [
    "## 13. 전라남도의 연령대별 용의자 발생건수 & 전라남도의 연령대별 피해자 발생건수\n",
    "## 귀무가설: 용의자와 피해자 수 차이의 평균은 유의하지 않다\n",
    "## 결론 pvalue 가 0.00~ 이므로 귀무가설 기각 후 대립가설채택 용의자와 피해자 발생건수 차이의 평균은 유의하다."
   ]
  },
  {
   "cell_type": "code",
   "execution_count": 52,
   "id": "eb0e91f5",
   "metadata": {},
   "outputs": [
    {
     "name": "stdout",
     "output_type": "stream",
     "text": [
      "statistic: -6.3060823973645785    p-value: 1.2038579984079244e-09\n"
     ]
    }
   ],
   "source": [
    "s_jeollanam =suspect_Old_DF[suspect_Old_DF['광역시도명']=='전라남도']\n",
    "v_jeollanam=victim_Old_DF[victim_Old_DF['광역시도명']=='전라남도']\n",
    "stat, p_val = stats.ttest_rel(s_jeollanam['발생건수'], v_jeollanam['발생건수'])\n",
    "print('statistic:', stat, '   p-value:', p_val)"
   ]
  },
  {
   "cell_type": "markdown",
   "id": "c4758229",
   "metadata": {},
   "source": [
    "## 14. 경상북도의 연령대별 용의자 발생건수 & 경상북도의 연령대별 피해자 발생건수\n",
    "## 귀무가설: 용의자와 피해자 수 차이의 평균은 유의하지 않다\n",
    "## 결론 pvalue 가 0.00~ 이므로 귀무가설 기각 후 대립가설채택 용의자와 피해자 발생건수 차이의 평균은 유의하다."
   ]
  },
  {
   "cell_type": "code",
   "execution_count": 53,
   "id": "6157a794",
   "metadata": {},
   "outputs": [
    {
     "name": "stdout",
     "output_type": "stream",
     "text": [
      "statistic: -5.727494889565686    p-value: 2.6685157735227256e-08\n"
     ]
    }
   ],
   "source": [
    "s_gyeongbuk=suspect_Old_DF[suspect_Old_DF['광역시도명']=='경상북도']\n",
    "v_gyeongbuk=victim_Old_DF[victim_Old_DF['광역시도명']=='경상북도']\n",
    "stat, p_val = stats.ttest_rel(s_gyeongbuk['발생건수'], v_gyeongbuk['발생건수'])\n",
    "print('statistic:', stat, '   p-value:', p_val)"
   ]
  },
  {
   "cell_type": "markdown",
   "id": "2051eb27",
   "metadata": {},
   "source": [
    "## 15. 경상남도의 연령대별 용의자 발생건수 & 경상남도의 연령대별 피해자 발생건수\n",
    "## 귀무가설: 용의자와 피해자 수 차이의 평균은 유의하지 않다\n",
    "## 결론 pvalue 가 0.00~ 이므로 귀무가설 기각 후 대립가설채택 용의자와 피해자 발생건수 차이의 평균은 유의하다."
   ]
  },
  {
   "cell_type": "code",
   "execution_count": 54,
   "id": "2e0d7541",
   "metadata": {},
   "outputs": [
    {
     "name": "stdout",
     "output_type": "stream",
     "text": [
      "statistic: -4.502008422511186    p-value: 1.1030060499171048e-05\n"
     ]
    }
   ],
   "source": [
    "s_gyeongnam=suspect_Old_DF[suspect_Old_DF['광역시도명']=='경상남도']\n",
    "v_gyeongnam=victim_Old_DF[victim_Old_DF['광역시도명']=='경상남도']\n",
    "stat, p_val = stats.ttest_rel(s_gyeongnam['발생건수'], v_gyeongnam['발생건수'])\n",
    "print('statistic:', stat, '   p-value:', p_val)"
   ]
  },
  {
   "cell_type": "markdown",
   "id": "712d6ba8",
   "metadata": {},
   "source": [
    "## 16. 제주특별자치도의 연령대별 용의자 발생건수 & 제주특별자치도의 연령대별 피해자 발생건수\n",
    "## 귀무가설: 용의자와 피해자 수 차이의 평균은 유의하지 않다\n",
    "## 결론 pvalue 가 0.00~ 이므로 귀무가설 기각 후 대립가설채택 용의자와 피해자 발생건수 차이의 평균은 유의하다."
   ]
  },
  {
   "cell_type": "code",
   "execution_count": 55,
   "id": "ab1f4ffe",
   "metadata": {},
   "outputs": [
    {
     "name": "stdout",
     "output_type": "stream",
     "text": [
      "statistic: -3.0292552129287866    p-value: 0.005965591010417483\n"
     ]
    }
   ],
   "source": [
    "s_jeju=suspect_Old_DF[suspect_Old_DF['광역시도명']=='제주특별자치도']\n",
    "v_jeju=victim_Old_DF[victim_Old_DF['광역시도명']=='제주특별자치도']\n",
    "stat, p_val = stats.ttest_rel(s_jeju['발생건수'], v_jeju['발생건수'])\n",
    "print('statistic:', stat, '   p-value:', p_val)"
   ]
  },
  {
   "cell_type": "code",
   "execution_count": null,
   "id": "867b30a0",
   "metadata": {},
   "outputs": [],
   "source": []
  }
 ],
 "metadata": {
  "kernelspec": {
   "display_name": "Python 3 (ipykernel)",
   "language": "python",
   "name": "python3"
  },
  "language_info": {
   "codemirror_mode": {
    "name": "ipython",
    "version": 3
   },
   "file_extension": ".py",
   "mimetype": "text/x-python",
   "name": "python",
   "nbconvert_exporter": "python",
   "pygments_lexer": "ipython3",
   "version": "3.9.12"
  }
 },
 "nbformat": 4,
 "nbformat_minor": 5
}
