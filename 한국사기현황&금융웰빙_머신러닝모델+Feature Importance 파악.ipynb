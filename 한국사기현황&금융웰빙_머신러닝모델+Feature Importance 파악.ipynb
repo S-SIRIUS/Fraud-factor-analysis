{
 "cells": [
  {
   "cell_type": "code",
   "execution_count": 183,
   "id": "5f0fab35",
   "metadata": {},
   "outputs": [],
   "source": [
    "import pandas as pd"
   ]
  },
  {
   "cell_type": "code",
   "execution_count": 210,
   "id": "4d910dfc",
   "metadata": {},
   "outputs": [],
   "source": [
    "df = pd.read_excel(\"금융사기현황 및 금융웰빙조사_Raw data(CI,0314).xlsx\")"
   ]
  },
  {
   "cell_type": "code",
   "execution_count": 211,
   "id": "8f4bd59a",
   "metadata": {},
   "outputs": [
    {
     "data": {
      "text/html": [
       "<div>\n",
       "<style scoped>\n",
       "    .dataframe tbody tr th:only-of-type {\n",
       "        vertical-align: middle;\n",
       "    }\n",
       "\n",
       "    .dataframe tbody tr th {\n",
       "        vertical-align: top;\n",
       "    }\n",
       "\n",
       "    .dataframe thead th {\n",
       "        text-align: right;\n",
       "    }\n",
       "</style>\n",
       "<table border=\"1\" class=\"dataframe\">\n",
       "  <thead>\n",
       "    <tr style=\"text-align: right;\">\n",
       "      <th></th>\n",
       "      <th>IDX</th>\n",
       "      <th>PQ1</th>\n",
       "      <th>PQ2</th>\n",
       "      <th>PQ2_1</th>\n",
       "      <th>PQ3</th>\n",
       "      <th>PQ3_1</th>\n",
       "      <th>PQ4</th>\n",
       "      <th>A1_1</th>\n",
       "      <th>A1_2</th>\n",
       "      <th>A1_3</th>\n",
       "      <th>...</th>\n",
       "      <th>DEMO14</th>\n",
       "      <th>DEMO15</th>\n",
       "      <th>DEMO16</th>\n",
       "      <th>DEMO17</th>\n",
       "      <th>DEMO18</th>\n",
       "      <th>DEMO19M01</th>\n",
       "      <th>DEMO19M02</th>\n",
       "      <th>DEMO19M03</th>\n",
       "      <th>DEMO19M04</th>\n",
       "      <th>DEMO20</th>\n",
       "    </tr>\n",
       "  </thead>\n",
       "  <tbody>\n",
       "    <tr>\n",
       "      <th>0</th>\n",
       "      <td>구분</td>\n",
       "      <td>성별</td>\n",
       "      <td>출생연도</td>\n",
       "      <td>연령</td>\n",
       "      <td>거주지역</td>\n",
       "      <td>거주지역</td>\n",
       "      <td>혼인상태</td>\n",
       "      <td>현재 및 미래 인식 - 나는 내 삶에 만족하고 있다</td>\n",
       "      <td>현재 및 미래 인식 - 나는 나의 미래에 대해 긍정적이다</td>\n",
       "      <td>현재 및 미래 인식 - 내가 오늘 열심히 일한다면 미래에 더 성공할 것이다</td>\n",
       "      <td>...</td>\n",
       "      <td>건강상태</td>\n",
       "      <td>가구 금융거래 주 담당자</td>\n",
       "      <td>투자성향</td>\n",
       "      <td>금융사기 경험</td>\n",
       "      <td>금융사기 피해경험</td>\n",
       "      <td>금융 사기 예방교육/정보 경험 (복수)</td>\n",
       "      <td>금융 사기 예방교육/정보 경험 (복수)</td>\n",
       "      <td>금융 사기 예방교육/정보 경험 (복수)</td>\n",
       "      <td>금융 사기 예방교육/정보 경험 (복수)</td>\n",
       "      <td>금융사기 예방교육 필요도</td>\n",
       "    </tr>\n",
       "    <tr>\n",
       "      <th>1</th>\n",
       "      <td>1</td>\n",
       "      <td>2</td>\n",
       "      <td>1974</td>\n",
       "      <td>7</td>\n",
       "      <td>1</td>\n",
       "      <td>NaN</td>\n",
       "      <td>2</td>\n",
       "      <td>2</td>\n",
       "      <td>3</td>\n",
       "      <td>3</td>\n",
       "      <td>...</td>\n",
       "      <td>2</td>\n",
       "      <td>1</td>\n",
       "      <td>1</td>\n",
       "      <td>2</td>\n",
       "      <td>2</td>\n",
       "      <td>NaN</td>\n",
       "      <td>NaN</td>\n",
       "      <td>NaN</td>\n",
       "      <td>4</td>\n",
       "      <td>2</td>\n",
       "    </tr>\n",
       "    <tr>\n",
       "      <th>2</th>\n",
       "      <td>2</td>\n",
       "      <td>1</td>\n",
       "      <td>1974</td>\n",
       "      <td>7</td>\n",
       "      <td>1</td>\n",
       "      <td>NaN</td>\n",
       "      <td>2</td>\n",
       "      <td>3</td>\n",
       "      <td>4</td>\n",
       "      <td>4</td>\n",
       "      <td>...</td>\n",
       "      <td>2</td>\n",
       "      <td>1</td>\n",
       "      <td>2</td>\n",
       "      <td>1</td>\n",
       "      <td>2</td>\n",
       "      <td>1</td>\n",
       "      <td>NaN</td>\n",
       "      <td>3</td>\n",
       "      <td>NaN</td>\n",
       "      <td>1</td>\n",
       "    </tr>\n",
       "    <tr>\n",
       "      <th>3</th>\n",
       "      <td>3</td>\n",
       "      <td>2</td>\n",
       "      <td>1972</td>\n",
       "      <td>8</td>\n",
       "      <td>2</td>\n",
       "      <td>10</td>\n",
       "      <td>2</td>\n",
       "      <td>4</td>\n",
       "      <td>4</td>\n",
       "      <td>5</td>\n",
       "      <td>...</td>\n",
       "      <td>1</td>\n",
       "      <td>1</td>\n",
       "      <td>4</td>\n",
       "      <td>2</td>\n",
       "      <td>2</td>\n",
       "      <td>1</td>\n",
       "      <td>NaN</td>\n",
       "      <td>3</td>\n",
       "      <td>NaN</td>\n",
       "      <td>1</td>\n",
       "    </tr>\n",
       "    <tr>\n",
       "      <th>4</th>\n",
       "      <td>4</td>\n",
       "      <td>1</td>\n",
       "      <td>1973</td>\n",
       "      <td>7</td>\n",
       "      <td>3</td>\n",
       "      <td>NaN</td>\n",
       "      <td>2</td>\n",
       "      <td>4</td>\n",
       "      <td>4</td>\n",
       "      <td>4</td>\n",
       "      <td>...</td>\n",
       "      <td>2</td>\n",
       "      <td>2</td>\n",
       "      <td>2</td>\n",
       "      <td>1</td>\n",
       "      <td>2</td>\n",
       "      <td>NaN</td>\n",
       "      <td>NaN</td>\n",
       "      <td>NaN</td>\n",
       "      <td>4</td>\n",
       "      <td>1</td>\n",
       "    </tr>\n",
       "    <tr>\n",
       "      <th>...</th>\n",
       "      <td>...</td>\n",
       "      <td>...</td>\n",
       "      <td>...</td>\n",
       "      <td>...</td>\n",
       "      <td>...</td>\n",
       "      <td>...</td>\n",
       "      <td>...</td>\n",
       "      <td>...</td>\n",
       "      <td>...</td>\n",
       "      <td>...</td>\n",
       "      <td>...</td>\n",
       "      <td>...</td>\n",
       "      <td>...</td>\n",
       "      <td>...</td>\n",
       "      <td>...</td>\n",
       "      <td>...</td>\n",
       "      <td>...</td>\n",
       "      <td>...</td>\n",
       "      <td>...</td>\n",
       "      <td>...</td>\n",
       "      <td>...</td>\n",
       "    </tr>\n",
       "    <tr>\n",
       "      <th>1996</th>\n",
       "      <td>1996</td>\n",
       "      <td>1</td>\n",
       "      <td>2004</td>\n",
       "      <td>2</td>\n",
       "      <td>4</td>\n",
       "      <td>NaN</td>\n",
       "      <td>1</td>\n",
       "      <td>3</td>\n",
       "      <td>4</td>\n",
       "      <td>4</td>\n",
       "      <td>...</td>\n",
       "      <td>2</td>\n",
       "      <td>2</td>\n",
       "      <td>3</td>\n",
       "      <td>2</td>\n",
       "      <td>2</td>\n",
       "      <td>1</td>\n",
       "      <td>2</td>\n",
       "      <td>NaN</td>\n",
       "      <td>NaN</td>\n",
       "      <td>1</td>\n",
       "    </tr>\n",
       "    <tr>\n",
       "      <th>1997</th>\n",
       "      <td>1997</td>\n",
       "      <td>1</td>\n",
       "      <td>2003</td>\n",
       "      <td>2</td>\n",
       "      <td>8</td>\n",
       "      <td>NaN</td>\n",
       "      <td>1</td>\n",
       "      <td>3</td>\n",
       "      <td>4</td>\n",
       "      <td>5</td>\n",
       "      <td>...</td>\n",
       "      <td>1</td>\n",
       "      <td>1</td>\n",
       "      <td>2</td>\n",
       "      <td>2</td>\n",
       "      <td>2</td>\n",
       "      <td>1</td>\n",
       "      <td>NaN</td>\n",
       "      <td>3</td>\n",
       "      <td>NaN</td>\n",
       "      <td>1</td>\n",
       "    </tr>\n",
       "    <tr>\n",
       "      <th>1998</th>\n",
       "      <td>1998</td>\n",
       "      <td>1</td>\n",
       "      <td>1996</td>\n",
       "      <td>3</td>\n",
       "      <td>14</td>\n",
       "      <td>NaN</td>\n",
       "      <td>1</td>\n",
       "      <td>2</td>\n",
       "      <td>3</td>\n",
       "      <td>4</td>\n",
       "      <td>...</td>\n",
       "      <td>2</td>\n",
       "      <td>1</td>\n",
       "      <td>3</td>\n",
       "      <td>1</td>\n",
       "      <td>2</td>\n",
       "      <td>1</td>\n",
       "      <td>NaN</td>\n",
       "      <td>3</td>\n",
       "      <td>NaN</td>\n",
       "      <td>1</td>\n",
       "    </tr>\n",
       "    <tr>\n",
       "      <th>1999</th>\n",
       "      <td>1999</td>\n",
       "      <td>1</td>\n",
       "      <td>1997</td>\n",
       "      <td>3</td>\n",
       "      <td>4</td>\n",
       "      <td>NaN</td>\n",
       "      <td>1</td>\n",
       "      <td>4</td>\n",
       "      <td>3</td>\n",
       "      <td>4</td>\n",
       "      <td>...</td>\n",
       "      <td>1</td>\n",
       "      <td>1</td>\n",
       "      <td>4</td>\n",
       "      <td>2</td>\n",
       "      <td>2</td>\n",
       "      <td>1</td>\n",
       "      <td>NaN</td>\n",
       "      <td>3</td>\n",
       "      <td>NaN</td>\n",
       "      <td>1</td>\n",
       "    </tr>\n",
       "    <tr>\n",
       "      <th>2000</th>\n",
       "      <td>2000</td>\n",
       "      <td>1</td>\n",
       "      <td>1999</td>\n",
       "      <td>2</td>\n",
       "      <td>4</td>\n",
       "      <td>NaN</td>\n",
       "      <td>1</td>\n",
       "      <td>3</td>\n",
       "      <td>3</td>\n",
       "      <td>3</td>\n",
       "      <td>...</td>\n",
       "      <td>2</td>\n",
       "      <td>1</td>\n",
       "      <td>1</td>\n",
       "      <td>2</td>\n",
       "      <td>2</td>\n",
       "      <td>NaN</td>\n",
       "      <td>NaN</td>\n",
       "      <td>NaN</td>\n",
       "      <td>4</td>\n",
       "      <td>1</td>\n",
       "    </tr>\n",
       "  </tbody>\n",
       "</table>\n",
       "<p>2001 rows × 478 columns</p>\n",
       "</div>"
      ],
      "text/plain": [
       "       IDX PQ1   PQ2 PQ2_1   PQ3 PQ3_1   PQ4                          A1_1  \\\n",
       "0       구분  성별  출생연도    연령  거주지역  거주지역  혼인상태  현재 및 미래 인식 - 나는 내 삶에 만족하고 있다   \n",
       "1        1   2  1974     7     1   NaN     2                             2   \n",
       "2        2   1  1974     7     1   NaN     2                             3   \n",
       "3        3   2  1972     8     2    10     2                             4   \n",
       "4        4   1  1973     7     3   NaN     2                             4   \n",
       "...    ...  ..   ...   ...   ...   ...   ...                           ...   \n",
       "1996  1996   1  2004     2     4   NaN     1                             3   \n",
       "1997  1997   1  2003     2     8   NaN     1                             3   \n",
       "1998  1998   1  1996     3    14   NaN     1                             2   \n",
       "1999  1999   1  1997     3     4   NaN     1                             4   \n",
       "2000  2000   1  1999     2     4   NaN     1                             3   \n",
       "\n",
       "                                 A1_2  \\\n",
       "0     현재 및 미래 인식 - 나는 나의 미래에 대해 긍정적이다   \n",
       "1                                   3   \n",
       "2                                   4   \n",
       "3                                   4   \n",
       "4                                   4   \n",
       "...                               ...   \n",
       "1996                                4   \n",
       "1997                                4   \n",
       "1998                                3   \n",
       "1999                                3   \n",
       "2000                                3   \n",
       "\n",
       "                                           A1_3  ... DEMO14         DEMO15  \\\n",
       "0     현재 및 미래 인식 - 내가 오늘 열심히 일한다면 미래에 더 성공할 것이다  ...   건강상태  가구 금융거래 주 담당자   \n",
       "1                                             3  ...      2              1   \n",
       "2                                             4  ...      2              1   \n",
       "3                                             5  ...      1              1   \n",
       "4                                             4  ...      2              2   \n",
       "...                                         ...  ...    ...            ...   \n",
       "1996                                          4  ...      2              2   \n",
       "1997                                          5  ...      1              1   \n",
       "1998                                          4  ...      2              1   \n",
       "1999                                          4  ...      1              1   \n",
       "2000                                          3  ...      2              1   \n",
       "\n",
       "     DEMO16   DEMO17     DEMO18              DEMO19M01              DEMO19M02  \\\n",
       "0      투자성향  금융사기 경험  금융사기 피해경험  금융 사기 예방교육/정보 경험 (복수)  금융 사기 예방교육/정보 경험 (복수)   \n",
       "1         1        2          2                    NaN                    NaN   \n",
       "2         2        1          2                      1                    NaN   \n",
       "3         4        2          2                      1                    NaN   \n",
       "4         2        1          2                    NaN                    NaN   \n",
       "...     ...      ...        ...                    ...                    ...   \n",
       "1996      3        2          2                      1                      2   \n",
       "1997      2        2          2                      1                    NaN   \n",
       "1998      3        1          2                      1                    NaN   \n",
       "1999      4        2          2                      1                    NaN   \n",
       "2000      1        2          2                    NaN                    NaN   \n",
       "\n",
       "                  DEMO19M03              DEMO19M04         DEMO20  \n",
       "0     금융 사기 예방교육/정보 경험 (복수)  금융 사기 예방교육/정보 경험 (복수)  금융사기 예방교육 필요도  \n",
       "1                       NaN                      4              2  \n",
       "2                         3                    NaN              1  \n",
       "3                         3                    NaN              1  \n",
       "4                       NaN                      4              1  \n",
       "...                     ...                    ...            ...  \n",
       "1996                    NaN                    NaN              1  \n",
       "1997                      3                    NaN              1  \n",
       "1998                      3                    NaN              1  \n",
       "1999                      3                    NaN              1  \n",
       "2000                    NaN                      4              1  \n",
       "\n",
       "[2001 rows x 478 columns]"
      ]
     },
     "execution_count": 211,
     "metadata": {},
     "output_type": "execute_result"
    }
   ],
   "source": [
    "df"
   ]
  },
  {
   "cell_type": "code",
   "execution_count": 246,
   "id": "1541de16",
   "metadata": {},
   "outputs": [],
   "source": [
    "new=df.loc[1:,['PQ1','DQ1','DQ2', 'DEMO10','PQ2_1','A2_2','DEMO16','A5','F1_3','PQ3','PQ4','F17_5','DEMO17','DEMO18']]"
   ]
  },
  {
   "cell_type": "code",
   "execution_count": 247,
   "id": "9b53df68",
   "metadata": {},
   "outputs": [],
   "source": [
    "new.rename(columns={'PQ1':'성별','DQ1':'교육','DQ2':'직업', 'DEMO10':'소득','PQ2_1':'자가보유여부','A2_2':'연령','DEMO16':'노후준비',\n",
    "                    'A5':'펀드투자지식','F1_3':'펀드투자여부','PQ3':'거주지역','PQ4':'결혼상태','F17_5':'재무상담','DEMO17':'금융사기경험',\n",
    "                    'DEMO18':'금융사기피해경험'}, inplace=True)"
   ]
  },
  {
   "cell_type": "code",
   "execution_count": 248,
   "id": "6092fb0d",
   "metadata": {},
   "outputs": [
    {
     "data": {
      "text/html": [
       "<div>\n",
       "<style scoped>\n",
       "    .dataframe tbody tr th:only-of-type {\n",
       "        vertical-align: middle;\n",
       "    }\n",
       "\n",
       "    .dataframe tbody tr th {\n",
       "        vertical-align: top;\n",
       "    }\n",
       "\n",
       "    .dataframe thead th {\n",
       "        text-align: right;\n",
       "    }\n",
       "</style>\n",
       "<table border=\"1\" class=\"dataframe\">\n",
       "  <thead>\n",
       "    <tr style=\"text-align: right;\">\n",
       "      <th></th>\n",
       "      <th>성별</th>\n",
       "      <th>교육</th>\n",
       "      <th>직업</th>\n",
       "      <th>소득</th>\n",
       "      <th>자가보유여부</th>\n",
       "      <th>연령</th>\n",
       "      <th>노후준비</th>\n",
       "      <th>펀드투자지식</th>\n",
       "      <th>펀드투자여부</th>\n",
       "      <th>거주지역</th>\n",
       "      <th>결혼상태</th>\n",
       "      <th>재무상담</th>\n",
       "      <th>금융사기경험</th>\n",
       "      <th>금융사기피해경험</th>\n",
       "    </tr>\n",
       "  </thead>\n",
       "  <tbody>\n",
       "    <tr>\n",
       "      <th>1</th>\n",
       "      <td>2</td>\n",
       "      <td>5</td>\n",
       "      <td>5</td>\n",
       "      <td>4</td>\n",
       "      <td>7</td>\n",
       "      <td>3</td>\n",
       "      <td>1</td>\n",
       "      <td>3</td>\n",
       "      <td>3</td>\n",
       "      <td>1</td>\n",
       "      <td>2</td>\n",
       "      <td>3</td>\n",
       "      <td>2</td>\n",
       "      <td>2</td>\n",
       "    </tr>\n",
       "    <tr>\n",
       "      <th>2</th>\n",
       "      <td>1</td>\n",
       "      <td>4</td>\n",
       "      <td>5</td>\n",
       "      <td>4</td>\n",
       "      <td>7</td>\n",
       "      <td>4</td>\n",
       "      <td>2</td>\n",
       "      <td>4</td>\n",
       "      <td>NaN</td>\n",
       "      <td>1</td>\n",
       "      <td>2</td>\n",
       "      <td>2</td>\n",
       "      <td>1</td>\n",
       "      <td>2</td>\n",
       "    </tr>\n",
       "    <tr>\n",
       "      <th>3</th>\n",
       "      <td>2</td>\n",
       "      <td>5</td>\n",
       "      <td>1</td>\n",
       "      <td>4</td>\n",
       "      <td>8</td>\n",
       "      <td>5</td>\n",
       "      <td>4</td>\n",
       "      <td>4</td>\n",
       "      <td>3</td>\n",
       "      <td>2</td>\n",
       "      <td>2</td>\n",
       "      <td>2</td>\n",
       "      <td>2</td>\n",
       "      <td>2</td>\n",
       "    </tr>\n",
       "    <tr>\n",
       "      <th>4</th>\n",
       "      <td>1</td>\n",
       "      <td>5</td>\n",
       "      <td>5</td>\n",
       "      <td>4</td>\n",
       "      <td>7</td>\n",
       "      <td>4</td>\n",
       "      <td>2</td>\n",
       "      <td>3</td>\n",
       "      <td>3</td>\n",
       "      <td>3</td>\n",
       "      <td>2</td>\n",
       "      <td>1</td>\n",
       "      <td>1</td>\n",
       "      <td>2</td>\n",
       "    </tr>\n",
       "    <tr>\n",
       "      <th>5</th>\n",
       "      <td>1</td>\n",
       "      <td>5</td>\n",
       "      <td>5</td>\n",
       "      <td>3</td>\n",
       "      <td>4</td>\n",
       "      <td>1</td>\n",
       "      <td>1</td>\n",
       "      <td>2</td>\n",
       "      <td>NaN</td>\n",
       "      <td>1</td>\n",
       "      <td>1</td>\n",
       "      <td>1</td>\n",
       "      <td>2</td>\n",
       "      <td>2</td>\n",
       "    </tr>\n",
       "    <tr>\n",
       "      <th>...</th>\n",
       "      <td>...</td>\n",
       "      <td>...</td>\n",
       "      <td>...</td>\n",
       "      <td>...</td>\n",
       "      <td>...</td>\n",
       "      <td>...</td>\n",
       "      <td>...</td>\n",
       "      <td>...</td>\n",
       "      <td>...</td>\n",
       "      <td>...</td>\n",
       "      <td>...</td>\n",
       "      <td>...</td>\n",
       "      <td>...</td>\n",
       "      <td>...</td>\n",
       "    </tr>\n",
       "    <tr>\n",
       "      <th>1996</th>\n",
       "      <td>1</td>\n",
       "      <td>1</td>\n",
       "      <td>10</td>\n",
       "      <td>3</td>\n",
       "      <td>2</td>\n",
       "      <td>3</td>\n",
       "      <td>3</td>\n",
       "      <td>3</td>\n",
       "      <td>NaN</td>\n",
       "      <td>4</td>\n",
       "      <td>1</td>\n",
       "      <td>3</td>\n",
       "      <td>2</td>\n",
       "      <td>2</td>\n",
       "    </tr>\n",
       "    <tr>\n",
       "      <th>1997</th>\n",
       "      <td>1</td>\n",
       "      <td>2</td>\n",
       "      <td>10</td>\n",
       "      <td>2</td>\n",
       "      <td>2</td>\n",
       "      <td>2</td>\n",
       "      <td>2</td>\n",
       "      <td>2</td>\n",
       "      <td>NaN</td>\n",
       "      <td>8</td>\n",
       "      <td>1</td>\n",
       "      <td>4</td>\n",
       "      <td>2</td>\n",
       "      <td>2</td>\n",
       "    </tr>\n",
       "    <tr>\n",
       "      <th>1998</th>\n",
       "      <td>1</td>\n",
       "      <td>5</td>\n",
       "      <td>12</td>\n",
       "      <td>2</td>\n",
       "      <td>3</td>\n",
       "      <td>2</td>\n",
       "      <td>3</td>\n",
       "      <td>2</td>\n",
       "      <td>3</td>\n",
       "      <td>14</td>\n",
       "      <td>1</td>\n",
       "      <td>2</td>\n",
       "      <td>1</td>\n",
       "      <td>2</td>\n",
       "    </tr>\n",
       "    <tr>\n",
       "      <th>1999</th>\n",
       "      <td>1</td>\n",
       "      <td>2</td>\n",
       "      <td>10</td>\n",
       "      <td>2</td>\n",
       "      <td>3</td>\n",
       "      <td>3</td>\n",
       "      <td>4</td>\n",
       "      <td>3</td>\n",
       "      <td>3</td>\n",
       "      <td>4</td>\n",
       "      <td>1</td>\n",
       "      <td>1</td>\n",
       "      <td>2</td>\n",
       "      <td>2</td>\n",
       "    </tr>\n",
       "    <tr>\n",
       "      <th>2000</th>\n",
       "      <td>1</td>\n",
       "      <td>5</td>\n",
       "      <td>10</td>\n",
       "      <td>1</td>\n",
       "      <td>2</td>\n",
       "      <td>3</td>\n",
       "      <td>1</td>\n",
       "      <td>3</td>\n",
       "      <td>3</td>\n",
       "      <td>4</td>\n",
       "      <td>1</td>\n",
       "      <td>3</td>\n",
       "      <td>2</td>\n",
       "      <td>2</td>\n",
       "    </tr>\n",
       "  </tbody>\n",
       "</table>\n",
       "<p>2000 rows × 14 columns</p>\n",
       "</div>"
      ],
      "text/plain": [
       "     성별 교육  직업 소득 자가보유여부 연령 노후준비 펀드투자지식 펀드투자여부 거주지역 결혼상태 재무상담 금융사기경험 금융사기피해경험\n",
       "1     2  5   5  4      7  3    1      3      3    1    2    3      2        2\n",
       "2     1  4   5  4      7  4    2      4    NaN    1    2    2      1        2\n",
       "3     2  5   1  4      8  5    4      4      3    2    2    2      2        2\n",
       "4     1  5   5  4      7  4    2      3      3    3    2    1      1        2\n",
       "5     1  5   5  3      4  1    1      2    NaN    1    1    1      2        2\n",
       "...  .. ..  .. ..    ... ..  ...    ...    ...  ...  ...  ...    ...      ...\n",
       "1996  1  1  10  3      2  3    3      3    NaN    4    1    3      2        2\n",
       "1997  1  2  10  2      2  2    2      2    NaN    8    1    4      2        2\n",
       "1998  1  5  12  2      3  2    3      2      3   14    1    2      1        2\n",
       "1999  1  2  10  2      3  3    4      3      3    4    1    1      2        2\n",
       "2000  1  5  10  1      2  3    1      3      3    4    1    3      2        2\n",
       "\n",
       "[2000 rows x 14 columns]"
      ]
     },
     "execution_count": 248,
     "metadata": {},
     "output_type": "execute_result"
    }
   ],
   "source": [
    "new"
   ]
  },
  {
   "cell_type": "markdown",
   "id": "5bea83d5",
   "metadata": {},
   "source": [
    "# 결측치 처리(펀드투자여부)\n",
    "## 3만 1166개이고 나머지는 다 NA임\n",
    "## 메타데이터 살펴보니 3은 YES 나머지는 NO -> 따라서 이를 1과 2로 바꾼다.\n",
    "## No(2)\n",
    "## Yes(1)"
   ]
  },
  {
   "cell_type": "code",
   "execution_count": 249,
   "id": "e2ea49ad",
   "metadata": {},
   "outputs": [
    {
     "data": {
      "text/plain": [
       "성별            0\n",
       "교육            0\n",
       "직업            0\n",
       "소득            0\n",
       "자가보유여부        0\n",
       "연령            0\n",
       "노후준비          0\n",
       "펀드투자지식        0\n",
       "펀드투자여부      834\n",
       "거주지역          0\n",
       "결혼상태          0\n",
       "재무상담          0\n",
       "금융사기경험        0\n",
       "금융사기피해경험      0\n",
       "dtype: int64"
      ]
     },
     "execution_count": 249,
     "metadata": {},
     "output_type": "execute_result"
    }
   ],
   "source": [
    "new.isna().sum()"
   ]
  },
  {
   "cell_type": "code",
   "execution_count": 250,
   "id": "ab4c168b",
   "metadata": {},
   "outputs": [
    {
     "data": {
      "text/plain": [
       "3    1166\n",
       "Name: 펀드투자여부, dtype: int64"
      ]
     },
     "execution_count": 250,
     "metadata": {},
     "output_type": "execute_result"
    }
   ],
   "source": [
    "new['펀드투자여부'].value_counts()"
   ]
  },
  {
   "cell_type": "code",
   "execution_count": 251,
   "id": "01418c91",
   "metadata": {},
   "outputs": [],
   "source": [
    "def change_fund(row):\n",
    "    if row == 3:\n",
    "        return 1\n",
    "    else:\n",
    "        return 2"
   ]
  },
  {
   "cell_type": "code",
   "execution_count": 252,
   "id": "72cfefa8",
   "metadata": {},
   "outputs": [],
   "source": [
    "new['펀드투자여부']=new['펀드투자여부'].apply(change_fund)"
   ]
  },
  {
   "cell_type": "code",
   "execution_count": 253,
   "id": "24893abb",
   "metadata": {},
   "outputs": [
    {
     "data": {
      "text/plain": [
       "성별          0\n",
       "교육          0\n",
       "직업          0\n",
       "소득          0\n",
       "자가보유여부      0\n",
       "연령          0\n",
       "노후준비        0\n",
       "펀드투자지식      0\n",
       "펀드투자여부      0\n",
       "거주지역        0\n",
       "결혼상태        0\n",
       "재무상담        0\n",
       "금융사기경험      0\n",
       "금융사기피해경험    0\n",
       "dtype: int64"
      ]
     },
     "execution_count": 253,
     "metadata": {},
     "output_type": "execute_result"
    }
   ],
   "source": [
    "new.isna().sum()"
   ]
  },
  {
   "cell_type": "markdown",
   "id": "4408d101",
   "metadata": {},
   "source": [
    "# 금융사기 경험 + 금융사기 피해경험 -> 3개로 바꾼다.\n",
    "# 1) 금융사기를 당했다(3)\n",
    "## .(시도O, 당함O) -> 금융사기경험: 1 & 금융사기피해경험: 1\n",
    "# 2) 금융사기를 당할뻔했다.(2)\n",
    "## (시도O, 당함X) -> 금융사기경험1 & 금융사기피해경험:2\n",
    "# 3) 금융사기를 당하지 않았다.(1)\n",
    "## (금융사기 시도X) -> 금융사기 경험2"
   ]
  },
  {
   "cell_type": "code",
   "execution_count": 194,
   "id": "15a93db9",
   "metadata": {},
   "outputs": [],
   "source": [
    "def fraud_experience(row):\n",
    "    if (row.금융사기경험==1) & (row.금융사기피해경험==1):\n",
    "        return 3\n",
    "    elif (row.금융사기경험==1) & (row.금융사기피해경험==2):\n",
    "        return 2\n",
    "    else:\n",
    "        return 1"
   ]
  },
  {
   "cell_type": "code",
   "execution_count": 195,
   "id": "1388acb7",
   "metadata": {},
   "outputs": [],
   "source": [
    "new['금융사기']=new.apply(lambda x: fraud_experience(x), axis=1)"
   ]
  },
  {
   "cell_type": "code",
   "execution_count": 196,
   "id": "54961077",
   "metadata": {},
   "outputs": [],
   "source": [
    "new.drop(columns=['금융사기경험','금융사기피해경험'], inplace=True)"
   ]
  },
  {
   "cell_type": "code",
   "execution_count": 197,
   "id": "859f9fa8",
   "metadata": {},
   "outputs": [
    {
     "data": {
      "text/html": [
       "<div>\n",
       "<style scoped>\n",
       "    .dataframe tbody tr th:only-of-type {\n",
       "        vertical-align: middle;\n",
       "    }\n",
       "\n",
       "    .dataframe tbody tr th {\n",
       "        vertical-align: top;\n",
       "    }\n",
       "\n",
       "    .dataframe thead th {\n",
       "        text-align: right;\n",
       "    }\n",
       "</style>\n",
       "<table border=\"1\" class=\"dataframe\">\n",
       "  <thead>\n",
       "    <tr style=\"text-align: right;\">\n",
       "      <th></th>\n",
       "      <th>성별</th>\n",
       "      <th>교육</th>\n",
       "      <th>직업</th>\n",
       "      <th>소득</th>\n",
       "      <th>자가보유여부</th>\n",
       "      <th>연령</th>\n",
       "      <th>노후준비</th>\n",
       "      <th>펀드투자지식</th>\n",
       "      <th>펀드투자여부</th>\n",
       "      <th>거주지역</th>\n",
       "      <th>결혼상태</th>\n",
       "      <th>재무상담</th>\n",
       "      <th>금융사기</th>\n",
       "    </tr>\n",
       "  </thead>\n",
       "  <tbody>\n",
       "    <tr>\n",
       "      <th>1</th>\n",
       "      <td>2</td>\n",
       "      <td>5</td>\n",
       "      <td>5</td>\n",
       "      <td>4</td>\n",
       "      <td>7</td>\n",
       "      <td>3</td>\n",
       "      <td>1</td>\n",
       "      <td>3</td>\n",
       "      <td>1</td>\n",
       "      <td>1</td>\n",
       "      <td>2</td>\n",
       "      <td>3</td>\n",
       "      <td>1</td>\n",
       "    </tr>\n",
       "    <tr>\n",
       "      <th>2</th>\n",
       "      <td>1</td>\n",
       "      <td>4</td>\n",
       "      <td>5</td>\n",
       "      <td>4</td>\n",
       "      <td>7</td>\n",
       "      <td>4</td>\n",
       "      <td>2</td>\n",
       "      <td>4</td>\n",
       "      <td>2</td>\n",
       "      <td>1</td>\n",
       "      <td>2</td>\n",
       "      <td>2</td>\n",
       "      <td>2</td>\n",
       "    </tr>\n",
       "    <tr>\n",
       "      <th>3</th>\n",
       "      <td>2</td>\n",
       "      <td>5</td>\n",
       "      <td>1</td>\n",
       "      <td>4</td>\n",
       "      <td>8</td>\n",
       "      <td>5</td>\n",
       "      <td>4</td>\n",
       "      <td>4</td>\n",
       "      <td>1</td>\n",
       "      <td>2</td>\n",
       "      <td>2</td>\n",
       "      <td>2</td>\n",
       "      <td>1</td>\n",
       "    </tr>\n",
       "    <tr>\n",
       "      <th>4</th>\n",
       "      <td>1</td>\n",
       "      <td>5</td>\n",
       "      <td>5</td>\n",
       "      <td>4</td>\n",
       "      <td>7</td>\n",
       "      <td>4</td>\n",
       "      <td>2</td>\n",
       "      <td>3</td>\n",
       "      <td>1</td>\n",
       "      <td>3</td>\n",
       "      <td>2</td>\n",
       "      <td>1</td>\n",
       "      <td>2</td>\n",
       "    </tr>\n",
       "    <tr>\n",
       "      <th>5</th>\n",
       "      <td>1</td>\n",
       "      <td>5</td>\n",
       "      <td>5</td>\n",
       "      <td>3</td>\n",
       "      <td>4</td>\n",
       "      <td>1</td>\n",
       "      <td>1</td>\n",
       "      <td>2</td>\n",
       "      <td>2</td>\n",
       "      <td>1</td>\n",
       "      <td>1</td>\n",
       "      <td>1</td>\n",
       "      <td>1</td>\n",
       "    </tr>\n",
       "    <tr>\n",
       "      <th>...</th>\n",
       "      <td>...</td>\n",
       "      <td>...</td>\n",
       "      <td>...</td>\n",
       "      <td>...</td>\n",
       "      <td>...</td>\n",
       "      <td>...</td>\n",
       "      <td>...</td>\n",
       "      <td>...</td>\n",
       "      <td>...</td>\n",
       "      <td>...</td>\n",
       "      <td>...</td>\n",
       "      <td>...</td>\n",
       "      <td>...</td>\n",
       "    </tr>\n",
       "    <tr>\n",
       "      <th>1996</th>\n",
       "      <td>1</td>\n",
       "      <td>1</td>\n",
       "      <td>10</td>\n",
       "      <td>3</td>\n",
       "      <td>2</td>\n",
       "      <td>3</td>\n",
       "      <td>3</td>\n",
       "      <td>3</td>\n",
       "      <td>2</td>\n",
       "      <td>4</td>\n",
       "      <td>1</td>\n",
       "      <td>3</td>\n",
       "      <td>1</td>\n",
       "    </tr>\n",
       "    <tr>\n",
       "      <th>1997</th>\n",
       "      <td>1</td>\n",
       "      <td>2</td>\n",
       "      <td>10</td>\n",
       "      <td>2</td>\n",
       "      <td>2</td>\n",
       "      <td>2</td>\n",
       "      <td>2</td>\n",
       "      <td>2</td>\n",
       "      <td>2</td>\n",
       "      <td>8</td>\n",
       "      <td>1</td>\n",
       "      <td>4</td>\n",
       "      <td>1</td>\n",
       "    </tr>\n",
       "    <tr>\n",
       "      <th>1998</th>\n",
       "      <td>1</td>\n",
       "      <td>5</td>\n",
       "      <td>12</td>\n",
       "      <td>2</td>\n",
       "      <td>3</td>\n",
       "      <td>2</td>\n",
       "      <td>3</td>\n",
       "      <td>2</td>\n",
       "      <td>1</td>\n",
       "      <td>14</td>\n",
       "      <td>1</td>\n",
       "      <td>2</td>\n",
       "      <td>2</td>\n",
       "    </tr>\n",
       "    <tr>\n",
       "      <th>1999</th>\n",
       "      <td>1</td>\n",
       "      <td>2</td>\n",
       "      <td>10</td>\n",
       "      <td>2</td>\n",
       "      <td>3</td>\n",
       "      <td>3</td>\n",
       "      <td>4</td>\n",
       "      <td>3</td>\n",
       "      <td>1</td>\n",
       "      <td>4</td>\n",
       "      <td>1</td>\n",
       "      <td>1</td>\n",
       "      <td>1</td>\n",
       "    </tr>\n",
       "    <tr>\n",
       "      <th>2000</th>\n",
       "      <td>1</td>\n",
       "      <td>5</td>\n",
       "      <td>10</td>\n",
       "      <td>1</td>\n",
       "      <td>2</td>\n",
       "      <td>3</td>\n",
       "      <td>1</td>\n",
       "      <td>3</td>\n",
       "      <td>1</td>\n",
       "      <td>4</td>\n",
       "      <td>1</td>\n",
       "      <td>3</td>\n",
       "      <td>1</td>\n",
       "    </tr>\n",
       "  </tbody>\n",
       "</table>\n",
       "<p>2000 rows × 13 columns</p>\n",
       "</div>"
      ],
      "text/plain": [
       "     성별 교육  직업 소득 자가보유여부 연령 노후준비 펀드투자지식  펀드투자여부 거주지역 결혼상태 재무상담  금융사기\n",
       "1     2  5   5  4      7  3    1      3       1    1    2    3     1\n",
       "2     1  4   5  4      7  4    2      4       2    1    2    2     2\n",
       "3     2  5   1  4      8  5    4      4       1    2    2    2     1\n",
       "4     1  5   5  4      7  4    2      3       1    3    2    1     2\n",
       "5     1  5   5  3      4  1    1      2       2    1    1    1     1\n",
       "...  .. ..  .. ..    ... ..  ...    ...     ...  ...  ...  ...   ...\n",
       "1996  1  1  10  3      2  3    3      3       2    4    1    3     1\n",
       "1997  1  2  10  2      2  2    2      2       2    8    1    4     1\n",
       "1998  1  5  12  2      3  2    3      2       1   14    1    2     2\n",
       "1999  1  2  10  2      3  3    4      3       1    4    1    1     1\n",
       "2000  1  5  10  1      2  3    1      3       1    4    1    3     1\n",
       "\n",
       "[2000 rows x 13 columns]"
      ]
     },
     "execution_count": 197,
     "metadata": {},
     "output_type": "execute_result"
    }
   ],
   "source": [
    "new"
   ]
  },
  {
   "cell_type": "markdown",
   "id": "a6320ce6",
   "metadata": {},
   "source": [
    "# 머신러닝 모델"
   ]
  },
  {
   "cell_type": "markdown",
   "id": "c57cdc10",
   "metadata": {},
   "source": [
    "# 1) 랜덤포레스트"
   ]
  },
  {
   "cell_type": "code",
   "execution_count": 220,
   "id": "b32a238f",
   "metadata": {},
   "outputs": [],
   "source": [
    "from sklearn.ensemble import RandomForestClassifier\n",
    "from sklearn.metrics import accuracy_score\n",
    "import pandas as pd\n",
    "import warnings\n",
    "warnings.filterwarnings('ignore')\n",
    "from sklearn.model_selection import train_test_split"
   ]
  },
  {
   "cell_type": "code",
   "execution_count": 199,
   "id": "9ab9c629",
   "metadata": {},
   "outputs": [],
   "source": [
    "X_features = new.iloc[:, :-1]\n",
    "y_label = new.iloc[:, -1]"
   ]
  },
  {
   "cell_type": "code",
   "execution_count": 200,
   "id": "ee8065fb",
   "metadata": {},
   "outputs": [
    {
     "data": {
      "text/plain": [
       "1       1\n",
       "2       2\n",
       "3       1\n",
       "4       2\n",
       "5       1\n",
       "       ..\n",
       "1996    1\n",
       "1997    1\n",
       "1998    2\n",
       "1999    1\n",
       "2000    1\n",
       "Name: 금융사기, Length: 2000, dtype: int64"
      ]
     },
     "execution_count": 200,
     "metadata": {},
     "output_type": "execute_result"
    }
   ],
   "source": [
    "y_label"
   ]
  },
  {
   "cell_type": "code",
   "execution_count": 201,
   "id": "74c6888d",
   "metadata": {},
   "outputs": [],
   "source": [
    "X_train, X_test, y_train, y_test = train_test_split(X_features, y_label, test_size=0.2, random_state=42)"
   ]
  },
  {
   "cell_type": "code",
   "execution_count": 202,
   "id": "0ed52597",
   "metadata": {},
   "outputs": [],
   "source": [
    "X_tr, X_val, y_tr, y_val = train_test_split(X_train, y_train, test_size=0.1, random_state=42)"
   ]
  },
  {
   "cell_type": "code",
   "execution_count": 203,
   "id": "1a050892",
   "metadata": {},
   "outputs": [
    {
     "name": "stdout",
     "output_type": "stream",
     "text": [
      "랜덤 포레스트 검증 데이터 정확도: 0.5500\n"
     ]
    }
   ],
   "source": [
    "rt_clf = RandomForestClassifier(random_state=42, max_depth=8)\n",
    "rt_clf.fit(X_tr, y_tr)\n",
    "pred=rt_clf.predict(X_val)\n",
    "accuracy=accuracy_score(y_val, pred)\n",
    "pred_proba = rt_clf.predict_proba(X_val)[:,1]\n",
    "print('랜덤 포레스트 검증 데이터 정확도: {0:.4f}'.format(accuracy))"
   ]
  },
  {
   "cell_type": "code",
   "execution_count": 204,
   "id": "aa58aaa6",
   "metadata": {},
   "outputs": [],
   "source": [
    "from sklearn.metrics import confusion_matrix, accuracy_score\n",
    "from sklearn.metrics import precision_score, recall_score\n",
    "from sklearn.metrics import f1_score, roc_auc_score\n",
    "\n",
    "def get_clf_eval2(y_test, pred):\n",
    "    confusion = confusion_matrix(y_test, pred)\n",
    "    accuracy = accuracy_score(y_test, pred)\n",
    "    precision = precision_score(y_test, pred, average='macro')\n",
    "    recall = recall_score(y_test, pred, average='macro')\n",
    "    f1 = f1_score(y_test, pred, average='macro')\n",
    "    print('오차 행렬')\n",
    "    print(confusion)\n",
    "    print('정확도: {0:.4f}, 정밀도: {1:.4f}, 재현율: {2:.4f}, F1: {3:.4f}'.format(accuracy, precision, recall, f1))"
   ]
  },
  {
   "cell_type": "code",
   "execution_count": 205,
   "id": "13354539",
   "metadata": {},
   "outputs": [
    {
     "name": "stdout",
     "output_type": "stream",
     "text": [
      "오차 행렬\n",
      "[[53 35  0]\n",
      " [31 35  0]\n",
      " [ 5  1  0]]\n",
      "정확도: 0.5500, 정밀도: 0.3628, 재현율: 0.3775, F1: 0.3699\n"
     ]
    }
   ],
   "source": [
    "get_clf_eval2(y_val,pred)"
   ]
  },
  {
   "cell_type": "code",
   "execution_count": 206,
   "id": "8760cf6c",
   "metadata": {},
   "outputs": [
    {
     "name": "stdout",
     "output_type": "stream",
     "text": [
      "랜덤 포레스트 검증 데이터 정확도: 0.5575\n"
     ]
    }
   ],
   "source": [
    "rt_clf = RandomForestClassifier(random_state=0, max_depth=8)\n",
    "rt_clf.fit(X_train, y_train)\n",
    "pred=rt_clf.predict(X_test)\n",
    "accuracy=accuracy_score(y_test, pred)\n",
    "print('랜덤 포레스트 검증 데이터 정확도: {0:.4f}'.format(accuracy))"
   ]
  },
  {
   "cell_type": "code",
   "execution_count": 207,
   "id": "810550ab",
   "metadata": {},
   "outputs": [
    {
     "name": "stdout",
     "output_type": "stream",
     "text": [
      "오차 행렬\n",
      "[[150  61   0]\n",
      " [ 96  73   0]\n",
      " [ 12   8   0]]\n",
      "정확도: 0.5575, 정밀도: 0.3652, 재현율: 0.3810, F1: 0.3697\n"
     ]
    }
   ],
   "source": [
    "get_clf_eval2(y_test,pred)"
   ]
  },
  {
   "cell_type": "markdown",
   "id": "d82c4f4f",
   "metadata": {},
   "source": [
    "# 금융사기 피해 결과로만 랜덤포레스트(이진분류)\n",
    "## 상당히 정확도가 높아짐"
   ]
  },
  {
   "cell_type": "code",
   "execution_count": 254,
   "id": "77d291fe",
   "metadata": {},
   "outputs": [],
   "source": [
    "new.drop(columns=['금융사기경험'],inplace=True)"
   ]
  },
  {
   "cell_type": "code",
   "execution_count": 255,
   "id": "7a10b0e8",
   "metadata": {},
   "outputs": [
    {
     "data": {
      "text/html": [
       "<div>\n",
       "<style scoped>\n",
       "    .dataframe tbody tr th:only-of-type {\n",
       "        vertical-align: middle;\n",
       "    }\n",
       "\n",
       "    .dataframe tbody tr th {\n",
       "        vertical-align: top;\n",
       "    }\n",
       "\n",
       "    .dataframe thead th {\n",
       "        text-align: right;\n",
       "    }\n",
       "</style>\n",
       "<table border=\"1\" class=\"dataframe\">\n",
       "  <thead>\n",
       "    <tr style=\"text-align: right;\">\n",
       "      <th></th>\n",
       "      <th>성별</th>\n",
       "      <th>교육</th>\n",
       "      <th>직업</th>\n",
       "      <th>소득</th>\n",
       "      <th>자가보유여부</th>\n",
       "      <th>연령</th>\n",
       "      <th>노후준비</th>\n",
       "      <th>펀드투자지식</th>\n",
       "      <th>펀드투자여부</th>\n",
       "      <th>거주지역</th>\n",
       "      <th>결혼상태</th>\n",
       "      <th>재무상담</th>\n",
       "      <th>금융사기피해경험</th>\n",
       "    </tr>\n",
       "  </thead>\n",
       "  <tbody>\n",
       "    <tr>\n",
       "      <th>1</th>\n",
       "      <td>2</td>\n",
       "      <td>5</td>\n",
       "      <td>5</td>\n",
       "      <td>4</td>\n",
       "      <td>7</td>\n",
       "      <td>3</td>\n",
       "      <td>1</td>\n",
       "      <td>3</td>\n",
       "      <td>1</td>\n",
       "      <td>1</td>\n",
       "      <td>2</td>\n",
       "      <td>3</td>\n",
       "      <td>2</td>\n",
       "    </tr>\n",
       "    <tr>\n",
       "      <th>2</th>\n",
       "      <td>1</td>\n",
       "      <td>4</td>\n",
       "      <td>5</td>\n",
       "      <td>4</td>\n",
       "      <td>7</td>\n",
       "      <td>4</td>\n",
       "      <td>2</td>\n",
       "      <td>4</td>\n",
       "      <td>2</td>\n",
       "      <td>1</td>\n",
       "      <td>2</td>\n",
       "      <td>2</td>\n",
       "      <td>2</td>\n",
       "    </tr>\n",
       "    <tr>\n",
       "      <th>3</th>\n",
       "      <td>2</td>\n",
       "      <td>5</td>\n",
       "      <td>1</td>\n",
       "      <td>4</td>\n",
       "      <td>8</td>\n",
       "      <td>5</td>\n",
       "      <td>4</td>\n",
       "      <td>4</td>\n",
       "      <td>1</td>\n",
       "      <td>2</td>\n",
       "      <td>2</td>\n",
       "      <td>2</td>\n",
       "      <td>2</td>\n",
       "    </tr>\n",
       "    <tr>\n",
       "      <th>4</th>\n",
       "      <td>1</td>\n",
       "      <td>5</td>\n",
       "      <td>5</td>\n",
       "      <td>4</td>\n",
       "      <td>7</td>\n",
       "      <td>4</td>\n",
       "      <td>2</td>\n",
       "      <td>3</td>\n",
       "      <td>1</td>\n",
       "      <td>3</td>\n",
       "      <td>2</td>\n",
       "      <td>1</td>\n",
       "      <td>2</td>\n",
       "    </tr>\n",
       "    <tr>\n",
       "      <th>5</th>\n",
       "      <td>1</td>\n",
       "      <td>5</td>\n",
       "      <td>5</td>\n",
       "      <td>3</td>\n",
       "      <td>4</td>\n",
       "      <td>1</td>\n",
       "      <td>1</td>\n",
       "      <td>2</td>\n",
       "      <td>2</td>\n",
       "      <td>1</td>\n",
       "      <td>1</td>\n",
       "      <td>1</td>\n",
       "      <td>2</td>\n",
       "    </tr>\n",
       "    <tr>\n",
       "      <th>...</th>\n",
       "      <td>...</td>\n",
       "      <td>...</td>\n",
       "      <td>...</td>\n",
       "      <td>...</td>\n",
       "      <td>...</td>\n",
       "      <td>...</td>\n",
       "      <td>...</td>\n",
       "      <td>...</td>\n",
       "      <td>...</td>\n",
       "      <td>...</td>\n",
       "      <td>...</td>\n",
       "      <td>...</td>\n",
       "      <td>...</td>\n",
       "    </tr>\n",
       "    <tr>\n",
       "      <th>1996</th>\n",
       "      <td>1</td>\n",
       "      <td>1</td>\n",
       "      <td>10</td>\n",
       "      <td>3</td>\n",
       "      <td>2</td>\n",
       "      <td>3</td>\n",
       "      <td>3</td>\n",
       "      <td>3</td>\n",
       "      <td>2</td>\n",
       "      <td>4</td>\n",
       "      <td>1</td>\n",
       "      <td>3</td>\n",
       "      <td>2</td>\n",
       "    </tr>\n",
       "    <tr>\n",
       "      <th>1997</th>\n",
       "      <td>1</td>\n",
       "      <td>2</td>\n",
       "      <td>10</td>\n",
       "      <td>2</td>\n",
       "      <td>2</td>\n",
       "      <td>2</td>\n",
       "      <td>2</td>\n",
       "      <td>2</td>\n",
       "      <td>2</td>\n",
       "      <td>8</td>\n",
       "      <td>1</td>\n",
       "      <td>4</td>\n",
       "      <td>2</td>\n",
       "    </tr>\n",
       "    <tr>\n",
       "      <th>1998</th>\n",
       "      <td>1</td>\n",
       "      <td>5</td>\n",
       "      <td>12</td>\n",
       "      <td>2</td>\n",
       "      <td>3</td>\n",
       "      <td>2</td>\n",
       "      <td>3</td>\n",
       "      <td>2</td>\n",
       "      <td>1</td>\n",
       "      <td>14</td>\n",
       "      <td>1</td>\n",
       "      <td>2</td>\n",
       "      <td>2</td>\n",
       "    </tr>\n",
       "    <tr>\n",
       "      <th>1999</th>\n",
       "      <td>1</td>\n",
       "      <td>2</td>\n",
       "      <td>10</td>\n",
       "      <td>2</td>\n",
       "      <td>3</td>\n",
       "      <td>3</td>\n",
       "      <td>4</td>\n",
       "      <td>3</td>\n",
       "      <td>1</td>\n",
       "      <td>4</td>\n",
       "      <td>1</td>\n",
       "      <td>1</td>\n",
       "      <td>2</td>\n",
       "    </tr>\n",
       "    <tr>\n",
       "      <th>2000</th>\n",
       "      <td>1</td>\n",
       "      <td>5</td>\n",
       "      <td>10</td>\n",
       "      <td>1</td>\n",
       "      <td>2</td>\n",
       "      <td>3</td>\n",
       "      <td>1</td>\n",
       "      <td>3</td>\n",
       "      <td>1</td>\n",
       "      <td>4</td>\n",
       "      <td>1</td>\n",
       "      <td>3</td>\n",
       "      <td>2</td>\n",
       "    </tr>\n",
       "  </tbody>\n",
       "</table>\n",
       "<p>2000 rows × 13 columns</p>\n",
       "</div>"
      ],
      "text/plain": [
       "     성별 교육  직업 소득 자가보유여부 연령 노후준비 펀드투자지식  펀드투자여부 거주지역 결혼상태 재무상담 금융사기피해경험\n",
       "1     2  5   5  4      7  3    1      3       1    1    2    3        2\n",
       "2     1  4   5  4      7  4    2      4       2    1    2    2        2\n",
       "3     2  5   1  4      8  5    4      4       1    2    2    2        2\n",
       "4     1  5   5  4      7  4    2      3       1    3    2    1        2\n",
       "5     1  5   5  3      4  1    1      2       2    1    1    1        2\n",
       "...  .. ..  .. ..    ... ..  ...    ...     ...  ...  ...  ...      ...\n",
       "1996  1  1  10  3      2  3    3      3       2    4    1    3        2\n",
       "1997  1  2  10  2      2  2    2      2       2    8    1    4        2\n",
       "1998  1  5  12  2      3  2    3      2       1   14    1    2        2\n",
       "1999  1  2  10  2      3  3    4      3       1    4    1    1        2\n",
       "2000  1  5  10  1      2  3    1      3       1    4    1    3        2\n",
       "\n",
       "[2000 rows x 13 columns]"
      ]
     },
     "execution_count": 255,
     "metadata": {},
     "output_type": "execute_result"
    }
   ],
   "source": [
    "new"
   ]
  },
  {
   "cell_type": "code",
   "execution_count": 256,
   "id": "819bed9b",
   "metadata": {},
   "outputs": [],
   "source": [
    "def change_fraud(row):\n",
    "    if row == 2:\n",
    "        return 0\n",
    "    else:\n",
    "        return 1"
   ]
  },
  {
   "cell_type": "code",
   "execution_count": 257,
   "id": "0b89e09e",
   "metadata": {},
   "outputs": [],
   "source": [
    "new['금융사기피해경험']=new['금융사기피해경험'].apply(change_fraud)"
   ]
  },
  {
   "cell_type": "code",
   "execution_count": 258,
   "id": "901011c8",
   "metadata": {},
   "outputs": [
    {
     "data": {
      "text/plain": [
       "0    1916\n",
       "1      84\n",
       "Name: 금융사기피해경험, dtype: int64"
      ]
     },
     "execution_count": 258,
     "metadata": {},
     "output_type": "execute_result"
    }
   ],
   "source": [
    "new['금융사기피해경험'].value_counts()"
   ]
  },
  {
   "cell_type": "code",
   "execution_count": 259,
   "id": "423048f5",
   "metadata": {},
   "outputs": [
    {
     "data": {
      "text/plain": [
       "성별          0\n",
       "교육          0\n",
       "직업          0\n",
       "소득          0\n",
       "자가보유여부      0\n",
       "연령          0\n",
       "노후준비        0\n",
       "펀드투자지식      0\n",
       "펀드투자여부      0\n",
       "거주지역        0\n",
       "결혼상태        0\n",
       "재무상담        0\n",
       "금융사기피해경험    0\n",
       "dtype: int64"
      ]
     },
     "execution_count": 259,
     "metadata": {},
     "output_type": "execute_result"
    }
   ],
   "source": [
    "new.isna().sum()"
   ]
  },
  {
   "cell_type": "code",
   "execution_count": 227,
   "id": "e24a4487",
   "metadata": {},
   "outputs": [],
   "source": [
    "X_features = new.iloc[:, :-1]\n",
    "y_label = new.iloc[:, -1]"
   ]
  },
  {
   "cell_type": "code",
   "execution_count": 228,
   "id": "f20ccf42",
   "metadata": {},
   "outputs": [],
   "source": [
    "X_train, X_test, y_train, y_test = train_test_split(X_features, y_label, test_size=0.2, random_state=42)"
   ]
  },
  {
   "cell_type": "code",
   "execution_count": 229,
   "id": "a1fb1f17",
   "metadata": {},
   "outputs": [],
   "source": [
    "X_tr, X_val, y_tr, y_val = train_test_split(X_train, y_train, test_size=0.1, random_state=42)"
   ]
  },
  {
   "cell_type": "code",
   "execution_count": 230,
   "id": "ff0f4d98",
   "metadata": {},
   "outputs": [
    {
     "name": "stdout",
     "output_type": "stream",
     "text": [
      "랜덤 포레스트 검증 데이터 정확도: 0.9625\n"
     ]
    }
   ],
   "source": [
    "rt_clf = RandomForestClassifier(random_state=42, max_depth=8)\n",
    "rt_clf.fit(X_tr, y_tr)\n",
    "pred=rt_clf.predict(X_val)\n",
    "accuracy=accuracy_score(y_val, pred)\n",
    "pred_proba = rt_clf.predict_proba(X_val)[:,1]\n",
    "print('랜덤 포레스트 검증 데이터 정확도: {0:.4f}'.format(accuracy))"
   ]
  },
  {
   "cell_type": "code",
   "execution_count": 231,
   "id": "e3e3be53",
   "metadata": {},
   "outputs": [],
   "source": [
    "def get_clf_eval(y_test, pred, pred_proba):\n",
    "    confusion = confusion_matrix(y_test, pred)\n",
    "    accuracy = accuracy_score(y_test , pred)\n",
    "    precision = precision_score(y_test , pred)\n",
    "    recall = recall_score(y_test , pred)\n",
    "    f1 = f1_score(y_test,pred)\n",
    "    roc_auc = roc_auc_score(y_test, pred_proba)\n",
    "    print('오차 행렬')\n",
    "    print(confusion)\n",
    "    print('정확도: {0:.4f}, 정밀도: {1:.4f}, 재현율: {2:.4f},\\\n",
    "    F1: {3:.4f}, AUC:{4:.4f}'.format(accuracy, precision, recall, f1, roc_auc))"
   ]
  },
  {
   "cell_type": "code",
   "execution_count": 232,
   "id": "49b4f726",
   "metadata": {},
   "outputs": [
    {
     "name": "stdout",
     "output_type": "stream",
     "text": [
      "오차 행렬\n",
      "[[154   0]\n",
      " [  6   0]]\n",
      "정확도: 0.9625, 정밀도: 0.0000, 재현율: 0.0000,    F1: 0.0000, AUC:0.5768\n"
     ]
    }
   ],
   "source": [
    "get_clf_eval(y_val,pred, pred_proba)"
   ]
  },
  {
   "cell_type": "code",
   "execution_count": 233,
   "id": "1759cc71",
   "metadata": {},
   "outputs": [
    {
     "name": "stdout",
     "output_type": "stream",
     "text": [
      "랜덤 포레스트 검증 데이터 정확도: 0.9500\n"
     ]
    }
   ],
   "source": [
    "rt_clf = RandomForestClassifier(random_state=42, max_depth=8)\n",
    "rt_clf.fit(X_train, y_train)\n",
    "pred=rt_clf.predict(X_test)\n",
    "accuracy=accuracy_score(y_test, pred)\n",
    "pred_proba = rt_clf.predict_proba(X_test)[:,1]\n",
    "print('랜덤 포레스트 검증 데이터 정확도: {0:.4f}'.format(accuracy))"
   ]
  },
  {
   "cell_type": "code",
   "execution_count": 234,
   "id": "9b1826da",
   "metadata": {},
   "outputs": [
    {
     "name": "stdout",
     "output_type": "stream",
     "text": [
      "오차 행렬\n",
      "[[380   0]\n",
      " [ 20   0]]\n",
      "정확도: 0.9500, 정밀도: 0.0000, 재현율: 0.0000,    F1: 0.0000, AUC:0.4943\n"
     ]
    }
   ],
   "source": [
    "get_clf_eval(y_test,pred, pred_proba)"
   ]
  },
  {
   "cell_type": "code",
   "execution_count": 236,
   "id": "49002115",
   "metadata": {},
   "outputs": [
    {
     "data": {
      "text/plain": [
       "array([0.03325811, 0.0839481 , 0.12549037, 0.07902867, 0.11188574,\n",
       "       0.08244191, 0.0959774 , 0.09214447, 0.05005355, 0.11436731,\n",
       "       0.0448975 , 0.08650687])"
      ]
     },
     "execution_count": 236,
     "metadata": {},
     "output_type": "execute_result"
    }
   ],
   "source": [
    "rt_clf.feature_importances_"
   ]
  },
  {
   "cell_type": "code",
   "execution_count": 244,
   "id": "9cd0d700",
   "metadata": {},
   "outputs": [],
   "source": [
    "import matplotlib.pyplot as plt\n",
    "from matplotlib import font_manager, rc\n",
    "font_name = font_manager.FontProperties(fname=\"c:/Windows/Fonts/malgun.ttf\").get_name()\n",
    "rc('font', family=font_name)"
   ]
  },
  {
   "cell_type": "code",
   "execution_count": 245,
   "id": "2dbfd0cb",
   "metadata": {},
   "outputs": [
    {
     "data": {
      "image/png": "[encoded data removed]",
      "text/plain": [
       "<Figure size 720x720 with 1 Axes>"
      ]
     },
     "metadata": {
      "needs_background": "light"
     },
     "output_type": "display_data"
    }
   ],
   "source": [
    "import numpy as np\n",
    "def plot_feature_importances(model):\n",
    "    n_features = X_features.shape[1]\n",
    "    plt.figure(figsize = (10, 10))\n",
    "    plt.barh(range(n_features), model.feature_importances_, align='center')\n",
    "    plt.yticks(np.arange(n_features), X_features)\n",
    "    plt.xlabel(\"Importances\")\n",
    "    plt.ylabel(\"Question\")\n",
    "    plt.ylim(-1, n_features)\n",
    "    plt.show()\n",
    "\n",
    "plot_feature_importances(rt_clf)\n"
   ]
  },
  {
   "cell_type": "markdown",
   "id": "a794853c",
   "metadata": {},
   "source": [
    "# 2020논문을 기준으로 변수 재선정"
   ]
  },
  {
   "cell_type": "code",
   "execution_count": null,
   "id": "5bd9d770",
   "metadata": {},
   "outputs": [],
   "source": []
  },
  {
   "cell_type": "code",
   "execution_count": 263,
   "id": "d254afb5",
   "metadata": {},
   "outputs": [],
   "source": [
    "def access_change(row):\n",
    "    if row==1:\n",
    "        return 1\n",
    "    else:\n",
    "        return 2"
   ]
  },
  {
   "cell_type": "code",
   "execution_count": 265,
   "id": "c3050591",
   "metadata": {},
   "outputs": [],
   "source": [
    "new['거주지역']=new['거주지역'].apply(access_change)"
   ]
  },
  {
   "cell_type": "code",
   "execution_count": 266,
   "id": "4d280238",
   "metadata": {},
   "outputs": [
    {
     "name": "stdout",
     "output_type": "stream",
     "text": [
      "랜덤 포레스트 검증 데이터 정확도: 0.9625\n"
     ]
    }
   ],
   "source": [
    "X_features = new.iloc[:, :-1]\n",
    "y_label = new.iloc[:, -1]\n",
    "X_train, X_test, y_train, y_test = train_test_split(X_features, y_label, test_size=0.2, random_state=42)\n",
    "X_tr, X_val, y_tr, y_val = train_test_split(X_train, y_train, test_size=0.1, random_state=42)\n",
    "rt_clf = RandomForestClassifier(random_state=42, max_depth=8)\n",
    "rt_clf.fit(X_tr, y_tr)\n",
    "pred=rt_clf.predict(X_val)\n",
    "accuracy=accuracy_score(y_val, pred)\n",
    "pred_proba = rt_clf.predict_proba(X_val)[:,1]\n",
    "print('랜덤 포레스트 검증 데이터 정확도: {0:.4f}'.format(accuracy))"
   ]
  },
  {
   "cell_type": "code",
   "execution_count": 268,
   "id": "8ffc2dc6",
   "metadata": {},
   "outputs": [
    {
     "name": "stdout",
     "output_type": "stream",
     "text": [
      "랜덤 포레스트 검증 데이터 정확도: 0.9500\n"
     ]
    }
   ],
   "source": [
    "rt_clf = RandomForestClassifier(random_state=42, max_depth=8)\n",
    "rt_clf.fit(X_train, y_train)\n",
    "pred=rt_clf.predict(X_test)\n",
    "accuracy=accuracy_score(y_test, pred)\n",
    "pred_proba = rt_clf.predict_proba(X_test)[:,1]\n",
    "print('랜덤 포레스트 검증 데이터 정확도: {0:.4f}'.format(accuracy))"
   ]
  },
  {
   "cell_type": "code",
   "execution_count": 269,
   "id": "33fcf106",
   "metadata": {},
   "outputs": [
    {
     "name": "stdout",
     "output_type": "stream",
     "text": [
      "오차 행렬\n",
      "[[380   0]\n",
      " [ 20   0]]\n",
      "정확도: 0.9500, 정밀도: 0.0000, 재현율: 0.0000,    F1: 0.0000, AUC:0.5358\n"
     ]
    }
   ],
   "source": [
    "get_clf_eval(y_test,pred, pred_proba)"
   ]
  },
  {
   "cell_type": "code",
   "execution_count": 270,
   "id": "dd9d5e68",
   "metadata": {},
   "outputs": [
    {
     "data": {
      "image/png": "[encoded data removed]",
      "text/plain": [
       "<Figure size 720x720 with 1 Axes>"
      ]
     },
     "metadata": {
      "needs_background": "light"
     },
     "output_type": "display_data"
    }
   ],
   "source": [
    "import numpy as np\n",
    "def plot_feature_importances(model):\n",
    "    n_features = X_features.shape[1]\n",
    "    plt.figure(figsize = (10, 10))\n",
    "    plt.barh(range(n_features), model.feature_importances_, align='center')\n",
    "    plt.yticks(np.arange(n_features), X_features)\n",
    "    plt.xlabel(\"Importances\")\n",
    "    plt.ylabel(\"Question\")\n",
    "    plt.ylim(-1, n_features)\n",
    "    plt.show()\n",
    "\n",
    "plot_feature_importances(rt_clf)\n"
   ]
  },
  {
   "cell_type": "code",
   "execution_count": null,
   "id": "296561f9",
   "metadata": {},
   "outputs": [],
   "source": []
  }
 ],
 "metadata": {
  "kernelspec": {
   "display_name": "Python 3 (ipykernel)",
   "language": "python",
   "name": "python3"
  },
  "language_info": {
   "codemirror_mode": {
    "name": "ipython",
    "version": 3
   },
   "file_extension": ".py",
   "mimetype": "text/x-python",
   "name": "python",
   "nbconvert_exporter": "python",
   "pygments_lexer": "ipython3",
   "version": "3.9.12"
  }
 },
 "nbformat": 4,
 "nbformat_minor": 5
}
